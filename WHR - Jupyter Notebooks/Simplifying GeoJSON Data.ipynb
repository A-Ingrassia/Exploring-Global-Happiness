{
 "cells": [
  {
   "cell_type": "code",
   "execution_count": 3,
   "id": "b4250741",
   "metadata": {},
   "outputs": [],
   "source": [
    "import geopandas as gpd\n",
    "\n",
    "# Load the GeoJSON data\n",
    "geojson_path = r\"C:\\Users\\ingra\\OneDrive\\Desktop\\Data Analysis\\World Happiness Report\\WHR - Data\\countries.geojson\"\n",
    "gdf = gpd.read_file(geojson_path)\n",
    "\n",
    "# Simplify the geometry with a tolerance of 0.01\n",
    "tolerance = 0.01\n",
    "simplified_gdf = gdf.copy()\n",
    "simplified_gdf['geometry'] = simplified_gdf['geometry'].simplify(tolerance)\n",
    "\n",
    "# Specify the output directory and filename for the simplified GeoJSON data\n",
    "output_directory = r'C:\\Users\\ingra\\OneDrive\\Desktop\\Data Analysis\\World Happiness Report\\WHR - Data\\\\'  # Note the double backslash at the end\n",
    "output_geojson_filename = 'simplified_geojson.geojson'\n",
    "\n",
    "# Combine the output directory and filename\n",
    "output_geojson_path = output_directory + output_geojson_filename\n",
    "\n",
    "# Save the simplified GeoJSON data to the specified directory\n",
    "simplified_gdf.to_file(output_geojson_path, driver='GeoJSON')"
   ]
  }
 ],
 "metadata": {
  "kernelspec": {
   "display_name": "Python 3 (ipykernel)",
   "language": "python",
   "name": "python3"
  },
  "language_info": {
   "codemirror_mode": {
    "name": "ipython",
    "version": 3
   },
   "file_extension": ".py",
   "mimetype": "text/x-python",
   "name": "python",
   "nbconvert_exporter": "python",
   "pygments_lexer": "ipython3",
   "version": "3.10.12"
  }
 },
 "nbformat": 4,
 "nbformat_minor": 5
}
