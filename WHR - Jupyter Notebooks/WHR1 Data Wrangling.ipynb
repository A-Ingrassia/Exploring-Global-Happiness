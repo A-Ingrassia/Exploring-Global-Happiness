{
 "cells": [
  {
   "cell_type": "markdown",
   "id": "e1932bd5",
   "metadata": {},
   "source": [
    "## Andrew Ingrassia\n",
    "## World Happiness Report\n",
    "## Cleaning/Wrangling"
   ]
  },
  {
   "cell_type": "markdown",
   "id": "6216b4a6",
   "metadata": {},
   "source": [
    "***\n",
    "## Contents"
   ]
  },
  {
   "cell_type": "markdown",
   "id": "c0093cc0",
   "metadata": {},
   "source": [
    "##### 1) Imports & libraries\n",
    "\n",
    "##### 2) Identifying common variables & dropping unwanted columns\n",
    "\n",
    "##### 3) Modifying variable names\n",
    "\n",
    "##### 4) Modifying the 'whr2022' datatframe\n",
    "\n",
    "##### 5) Data quality & consistency checks\n",
    "    - 5a. Checking for mixed data types\n",
    "    - 5b. Ensuring data types are consistent across dataframes\n",
    "    \n",
    "##### 6) Concatenating all 9 dataframes\n",
    "\n",
    "##### 7) Checking for missing values in the combined dataframe\n",
    "\n",
    "##### 8) Universalizing country names\n",
    "\n",
    "##### 9) Modifying data types in the combined dataframe\n",
    "\n",
    "##### 10) Removing countries whose scores do not appear for all 9 years (2015 - 2023)\n",
    "\n",
    "##### 11) Exporting the combined dataframe as a csv"
   ]
  },
  {
   "cell_type": "markdown",
   "id": "8e62abb2",
   "metadata": {},
   "source": [
    "***\n",
    "### 1) Imports & libraries"
   ]
  },
  {
   "cell_type": "code",
   "execution_count": 1,
   "id": "0433103c",
   "metadata": {},
   "outputs": [],
   "source": [
    "import numpy as np\n",
    "import pandas as pd\n",
    "import matplotlib.pyplot as plt\n",
    "import seaborn as sns\n",
    "import os\n",
    "import scipy"
   ]
  },
  {
   "cell_type": "code",
   "execution_count": 2,
   "id": "72f58077",
   "metadata": {},
   "outputs": [],
   "source": [
    "# Defines a file path\n",
    "\n",
    "path = r'C:\\Users\\ingra\\OneDrive\\Desktop\\Data Analysis\\World Happiness Report\\WHR - Data'"
   ]
  },
  {
   "cell_type": "code",
   "execution_count": 3,
   "id": "76546503",
   "metadata": {},
   "outputs": [],
   "source": [
    "# Imports all relevant data sets\n",
    "\n",
    "whr2015 = pd.read_csv(os.path.join(path, '2015_whr1.csv'))\n",
    "whr2016 = pd.read_csv(os.path.join(path, '2016_whr1.csv'))\n",
    "whr2017 = pd.read_csv(os.path.join(path, '2017_whr1.csv'))\n",
    "whr2018 = pd.read_csv(os.path.join(path, '2018_whr1.csv'))\n",
    "whr2019 = pd.read_csv(os.path.join(path, '2019_whr1.csv'))\n",
    "whr2020 = pd.read_csv(os.path.join(path, '2020_whr1.csv'))\n",
    "whr2021 = pd.read_csv(os.path.join(path, '2021_whr1.csv'))\n",
    "whr2022 = pd.read_csv(os.path.join(path, '2022_whr1.csv'))\n",
    "whr2023 = pd.read_csv(os.path.join(path, '2023_whr1.csv'))"
   ]
  },
  {
   "cell_type": "markdown",
   "id": "bdf30fc6",
   "metadata": {},
   "source": [
    "***\n",
    "### 2) Identifying common variables & dropping unwanted columns"
   ]
  },
  {
   "cell_type": "code",
   "execution_count": 4,
   "id": "fc51b02a",
   "metadata": {},
   "outputs": [
    {
     "name": "stdout",
     "output_type": "stream",
     "text": [
      "Index(['Country', 'Region', 'Year', 'Happiness Rank', 'Happiness Score',\n",
      "       'Standard Error', 'Economy (GDP per Capita)', 'Family',\n",
      "       'Health (Life Expectancy)', 'Freedom', 'Trust (Government Corruption)',\n",
      "       'Generosity', 'Dystopia Residual'],\n",
      "      dtype='object')\n"
     ]
    }
   ],
   "source": [
    "# Prints the column names associated with 'whr2015'\n",
    "\n",
    "print(whr2015.columns)"
   ]
  },
  {
   "cell_type": "code",
   "execution_count": 5,
   "id": "29ebd66b",
   "metadata": {},
   "outputs": [],
   "source": [
    "# Drops specified columns from whr2015\n",
    "\n",
    "whr2015_drop_columns = ['Region', 'Standard Error', 'Dystopia Residual']\n",
    "whr2015.drop(columns=whr2015_drop_columns, inplace=True)"
   ]
  },
  {
   "cell_type": "code",
   "execution_count": 6,
   "id": "73055ab6",
   "metadata": {},
   "outputs": [
    {
     "name": "stdout",
     "output_type": "stream",
     "text": [
      "Index(['Country', 'Region', 'Year', 'Happiness Rank', 'Happiness Score',\n",
      "       'Lower Confidence Interval', 'Upper Confidence Interval',\n",
      "       'Economy (GDP per Capita)', 'Family', 'Health (Life Expectancy)',\n",
      "       'Freedom', 'Trust (Government Corruption)', 'Generosity',\n",
      "       'Dystopia Residual'],\n",
      "      dtype='object')\n"
     ]
    }
   ],
   "source": [
    "# Prints the column names associated with 'whr2016'\n",
    "\n",
    "print(whr2016.columns)"
   ]
  },
  {
   "cell_type": "code",
   "execution_count": 7,
   "id": "9df01fac",
   "metadata": {},
   "outputs": [],
   "source": [
    "# Drops specified columns from whr2016\n",
    "\n",
    "whr2016_drop_columns = ['Region', 'Lower Confidence Interval', 'Upper Confidence Interval', 'Dystopia Residual']\n",
    "whr2016.drop(columns=whr2016_drop_columns, inplace=True)"
   ]
  },
  {
   "cell_type": "code",
   "execution_count": 8,
   "id": "63841257",
   "metadata": {},
   "outputs": [
    {
     "name": "stdout",
     "output_type": "stream",
     "text": [
      "Index(['Country', 'Happiness.Rank', 'Year', 'Happiness.Score', 'Whisker.high',\n",
      "       'Whisker.low', 'Economy..GDP.per.Capita.', 'Family',\n",
      "       'Health..Life.Expectancy.', 'Freedom', 'Generosity',\n",
      "       'Trust..Government.Corruption.', 'Dystopia.Residual'],\n",
      "      dtype='object')\n"
     ]
    }
   ],
   "source": [
    "# Prints the column names associated with 'whr2017'\n",
    "\n",
    "print(whr2017.columns)"
   ]
  },
  {
   "cell_type": "code",
   "execution_count": 9,
   "id": "c01f64b1",
   "metadata": {},
   "outputs": [],
   "source": [
    "# Drops specified columns from whr2017\n",
    "\n",
    "whr2017_drop_columns = ['Whisker.high', 'Whisker.low', 'Dystopia.Residual']\n",
    "whr2017.drop(columns=whr2017_drop_columns, inplace=True)"
   ]
  },
  {
   "cell_type": "code",
   "execution_count": 10,
   "id": "d38b0222",
   "metadata": {},
   "outputs": [
    {
     "name": "stdout",
     "output_type": "stream",
     "text": [
      "Index(['Overall rank', 'Country or region', 'Score', 'Year', 'GDP per capita',\n",
      "       'Social support', 'Healthy life expectancy',\n",
      "       'Freedom to make life choices', 'Generosity',\n",
      "       'Perceptions of corruption'],\n",
      "      dtype='object')\n"
     ]
    }
   ],
   "source": [
    "# Prints the column names associated with 'whr2018'\n",
    "\n",
    "print(whr2018.columns)"
   ]
  },
  {
   "cell_type": "code",
   "execution_count": 11,
   "id": "c98992d1",
   "metadata": {},
   "outputs": [
    {
     "name": "stdout",
     "output_type": "stream",
     "text": [
      "Index(['Overall rank', 'Country or region', 'Year', 'Score', 'GDP per capita',\n",
      "       'Social support', 'Healthy life expectancy',\n",
      "       'Freedom to make life choices', 'Generosity',\n",
      "       'Perceptions of corruption'],\n",
      "      dtype='object')\n"
     ]
    }
   ],
   "source": [
    "# Prints the column names associated with 'whr2019'\n",
    "\n",
    "print(whr2019.columns)"
   ]
  },
  {
   "cell_type": "code",
   "execution_count": 12,
   "id": "6cfc1be6",
   "metadata": {},
   "outputs": [
    {
     "name": "stdout",
     "output_type": "stream",
     "text": [
      "Index(['happiness_rank', 'Country name', 'Regional indicator', 'Year',\n",
      "       'Ladder score', 'Standard error of ladder score', 'upperwhisker',\n",
      "       'lowerwhisker', 'Logged GDP per capita', 'Social support',\n",
      "       'Healthy life expectancy', 'Freedom to make life choices', 'Generosity',\n",
      "       'Perceptions of corruption', 'Ladder score in Dystopia',\n",
      "       'Explained by: Log GDP per capita', 'Explained by: Social support',\n",
      "       'Explained by: Healthy life expectancy',\n",
      "       'Explained by: Freedom to make life choices',\n",
      "       'Explained by: Generosity', 'Explained by: Perceptions of corruption',\n",
      "       'Dystopia + residual'],\n",
      "      dtype='object')\n"
     ]
    }
   ],
   "source": [
    "# Prints the column names associated with 'whr2020'\n",
    "\n",
    "print(whr2020.columns)"
   ]
  },
  {
   "cell_type": "code",
   "execution_count": 13,
   "id": "244b29a7",
   "metadata": {},
   "outputs": [],
   "source": [
    "# Drops specified columns from whr2020\n",
    "\n",
    "whr2020_drop_columns = ['Regional indicator', 'Standard error of ladder score', 'upperwhisker', 'lowerwhisker', \n",
    "                        'Logged GDP per capita', 'Social support','Healthy life expectancy', \n",
    "                        'Freedom to make life choices', 'Generosity', 'Perceptions of corruption', \n",
    "                        'Ladder score in Dystopia', 'Dystopia + residual']\n",
    "\n",
    "whr2020.drop(columns=whr2020_drop_columns, inplace=True)"
   ]
  },
  {
   "cell_type": "code",
   "execution_count": 14,
   "id": "e0a155b6",
   "metadata": {},
   "outputs": [
    {
     "name": "stdout",
     "output_type": "stream",
     "text": [
      "Index(['happiness_rank', 'Country name', 'Regional indicator', 'Year',\n",
      "       'Ladder score', 'Standard error of ladder score', 'upperwhisker',\n",
      "       'lowerwhisker', 'Logged GDP per capita', 'Social support',\n",
      "       'Healthy life expectancy', 'Freedom to make life choices', 'Generosity',\n",
      "       'Perceptions of corruption', 'Ladder score in Dystopia',\n",
      "       'Explained by: Log GDP per capita', 'Explained by: Social support',\n",
      "       'Explained by: Healthy life expectancy',\n",
      "       'Explained by: Freedom to make life choices',\n",
      "       'Explained by: Generosity', 'Explained by: Perceptions of corruption',\n",
      "       'Dystopia + residual'],\n",
      "      dtype='object')\n"
     ]
    }
   ],
   "source": [
    "# Prints the column names associated with 'whr2021'\n",
    "\n",
    "print(whr2021.columns)"
   ]
  },
  {
   "cell_type": "code",
   "execution_count": 15,
   "id": "f02707b8",
   "metadata": {},
   "outputs": [],
   "source": [
    "# Drops specified columns from whr2021\n",
    "\n",
    "whr2021_drop_columns = ['Regional indicator', 'Standard error of ladder score', 'upperwhisker', 'lowerwhisker',\n",
    "                       'Ladder score in Dystopia', 'Logged GDP per capita', 'Social support', 'Healthy life expectancy', \n",
    "                       'Freedom to make life choices', 'Generosity', 'Perceptions of corruption', 'Dystopia + residual']\n",
    "\n",
    "whr2021.drop(columns=whr2021_drop_columns, inplace=True)"
   ]
  },
  {
   "cell_type": "code",
   "execution_count": 16,
   "id": "64af7115",
   "metadata": {},
   "outputs": [
    {
     "name": "stdout",
     "output_type": "stream",
     "text": [
      "Index(['RANK', 'Country', 'Year', 'Happiness score', 'Whisker-high',\n",
      "       'Whisker-low', 'Dystopia (1.83) + residual',\n",
      "       'Explained by: GDP per capita', 'Explained by: Social support',\n",
      "       'Explained by: Healthy life expectancy',\n",
      "       'Explained by: Freedom to make life choices',\n",
      "       'Explained by: Generosity', 'Explained by: Perceptions of corruption'],\n",
      "      dtype='object')\n"
     ]
    }
   ],
   "source": [
    "# Prints the column names associated with 'whr2022'\n",
    "\n",
    "print(whr2022.columns)"
   ]
  },
  {
   "cell_type": "code",
   "execution_count": 17,
   "id": "c5eaf316",
   "metadata": {},
   "outputs": [],
   "source": [
    "# Drops specified columns from whr2022\n",
    "\n",
    "whr2022_drop_columns = ['Whisker-high', 'Whisker-low', 'Dystopia (1.83) + residual']\n",
    "whr2022.drop(columns=whr2022_drop_columns, inplace=True)"
   ]
  },
  {
   "cell_type": "code",
   "execution_count": 18,
   "id": "47547291",
   "metadata": {},
   "outputs": [
    {
     "name": "stdout",
     "output_type": "stream",
     "text": [
      "Index(['happiness_rank', 'Country name', 'Ladder score', 'Year',\n",
      "       'Standard error of ladder score', 'upperwhisker', 'lowerwhisker',\n",
      "       'Logged GDP per capita', 'Social support', 'Healthy life expectancy',\n",
      "       'Freedom to make life choices', 'Generosity',\n",
      "       'Perceptions of corruption', 'Ladder score in Dystopia',\n",
      "       'Explained by: Log GDP per capita', 'Explained by: Social support',\n",
      "       'Explained by: Healthy life expectancy',\n",
      "       'Explained by: Freedom to make life choices',\n",
      "       'Explained by: Generosity', 'Explained by: Perceptions of corruption',\n",
      "       'Dystopia + residual'],\n",
      "      dtype='object')\n"
     ]
    }
   ],
   "source": [
    "# Prints the column names associated with 'whr2023'\n",
    "\n",
    "print(whr2023.columns)"
   ]
  },
  {
   "cell_type": "code",
   "execution_count": 19,
   "id": "d5430010",
   "metadata": {},
   "outputs": [],
   "source": [
    "# Drops specified columns from whr2023\n",
    "\n",
    "whr2023_drop_columns = ['Standard error of ladder score', 'upperwhisker', 'lowerwhisker', 'Ladder score in Dystopia',\n",
    "                       'Logged GDP per capita', 'Social support', 'Healthy life expectancy', 'Freedom to make life choices', \n",
    "                       'Generosity', 'Perceptions of corruption', 'Dystopia + residual']\n",
    "\n",
    "whr2023.drop(columns=whr2023_drop_columns, inplace=True)"
   ]
  },
  {
   "cell_type": "markdown",
   "id": "02d4791b",
   "metadata": {},
   "source": [
    "***\n",
    "### 3) Modifying variable names"
   ]
  },
  {
   "cell_type": "code",
   "execution_count": 20,
   "id": "0dc1b45b",
   "metadata": {},
   "outputs": [],
   "source": [
    "# Defines a list of dataframe names\n",
    "\n",
    "dataframes = [whr2015, whr2016, whr2017, whr2018, whr2019, whr2020, whr2021, whr2022, whr2023]"
   ]
  },
  {
   "cell_type": "code",
   "execution_count": 21,
   "id": "ec4542b0",
   "metadata": {},
   "outputs": [
    {
     "name": "stdout",
     "output_type": "stream",
     "text": [
      "['Country name', 'Explained by: Healthy life expectancy', 'Happiness Score', 'Overall rank', 'Health (Life Expectancy)', 'Freedom', 'Trust (Government Corruption)', 'happiness_rank', 'Country', 'Explained by: Generosity', 'GDP per capita', 'Social support', 'Healthy life expectancy', 'Explained by: Perceptions of corruption', 'Happiness score', 'Family', 'Happiness.Score', 'Explained by: Social support', 'Country or region', 'Explained by: GDP per capita', 'Year', 'Explained by: Freedom to make life choices', 'Perceptions of corruption', 'Freedom to make life choices', 'Score', 'Generosity', 'Trust..Government.Corruption.', 'Explained by: Log GDP per capita', 'RANK', 'Happiness.Rank', 'Economy..GDP.per.Capita.', 'Happiness Rank', 'Economy (GDP per Capita)', 'Health..Life.Expectancy.', 'Ladder score']\n"
     ]
    }
   ],
   "source": [
    "# Identifying all remaining unique column names\n",
    "\n",
    "unique_column_names = set()\n",
    "\n",
    "for df in dataframes:\n",
    "    unique_column_names.update(df.columns)\n",
    "\n",
    "# Convert the set of unique column names back to a list\n",
    "unique_column_names_list = list(unique_column_names)\n",
    "\n",
    "print(unique_column_names_list)"
   ]
  },
  {
   "cell_type": "code",
   "execution_count": 22,
   "id": "28800cc9",
   "metadata": {},
   "outputs": [],
   "source": [
    "# Universalizing variable names to be included in combined dataframe\n",
    "\n",
    "column_renaming = {\n",
    "    'Explained by: GDP per capita': 'economic_status',\n",
    "    'Freedom to make life choices': 'freedom',\n",
    "    'Health..Life.Expectancy.': 'life_expectancy',\n",
    "    'Overall rank': 'happiness_rank',\n",
    "    'Economy (GDP per Capita)': 'economic_status',\n",
    "    'Explained by: Log GDP per capita': 'economic_status',\n",
    "    'Freedom': 'freedom', \n",
    "    'Explained by: Generosity': 'generosity', \n",
    "    'Perceptions of corruption': 'govt_trust', \n",
    "    'Country name': 'country', \n",
    "    'Economy..GDP.per.Capita.': 'economic_status', \n",
    "    'Social support': 'social_support', \n",
    "    'Happiness Score': 'happiness_score', \n",
    "    'Trust (Government Corruption)': 'govt_trust', \n",
    "    'Explained by: Freedom to make life choices': 'freedom', \n",
    "    'Health (Life Expectancy)': 'life_expectancy', \n",
    "    'Explained by: Healthy life expectancy': 'life_expectancy', \n",
    "    'GDP per capita': 'economic_status', \n",
    "    'Year': 'year', \n",
    "    'Happiness.Score': 'happiness_score', \n",
    "    'Ladder score': 'happiness_score', \n",
    "    'Country or region': 'country', \n",
    "    'Explained by: Perceptions of corruption': 'govt_trust', \n",
    "    'Trust..Government.Corruption.': 'govt_trust', \n",
    "    'Family': 'social_support', \n",
    "    'Happiness score': 'happiness_score', \n",
    "    'Country': 'country', \n",
    "    'Healthy life expectancy': 'life_expectancy', \n",
    "    'RANK': 'happiness_rank', \n",
    "    'Generosity': 'generosity', \n",
    "    'Score': 'happiness_score', \n",
    "    'Happiness.Rank': 'happiness_rank', \n",
    "    'Explained by: Social support': 'social_support', \n",
    "    'Happiness Rank': 'happiness_rank'\n",
    "}"
   ]
  },
  {
   "cell_type": "code",
   "execution_count": 23,
   "id": "232643ca",
   "metadata": {},
   "outputs": [],
   "source": [
    "# Loops through all dataframes and applies the column renaming as specified in the 'column_renaming' dictionary\n",
    "\n",
    "for df in dataframes:\n",
    "    df.rename(columns = column_renaming, inplace=True)"
   ]
  },
  {
   "cell_type": "markdown",
   "id": "c2b9f2f5",
   "metadata": {},
   "source": [
    "***\n",
    "### 4) Modifying the 'whr2022' dataframe"
   ]
  },
  {
   "cell_type": "code",
   "execution_count": 24,
   "id": "92d6e89a",
   "metadata": {},
   "outputs": [],
   "source": [
    "# List of desired columns within whr2022 that contain values with commas in place of decimal points\n",
    "comma_columns = [\n",
    "    'happiness_score',\n",
    "    'economic_status',\n",
    "    'social_support',\n",
    "    'life_expectancy',\n",
    "    'freedom',\n",
    "    'generosity',\n",
    "    'govt_trust'\n",
    "]  \n",
    "\n",
    "# Iterate through columns and replace commas with decimal points\n",
    "for column in comma_columns:\n",
    "    whr2022[column] = whr2022[column].str.replace(',', '.')"
   ]
  },
  {
   "cell_type": "markdown",
   "id": "0f6467d4",
   "metadata": {},
   "source": [
    "***\n",
    "### 5) Data quality and consistency checks"
   ]
  },
  {
   "cell_type": "markdown",
   "id": "bfc0bdc7",
   "metadata": {},
   "source": [
    "##### 5a. Checking for mixed data types"
   ]
  },
  {
   "cell_type": "code",
   "execution_count": 25,
   "id": "b757f88c",
   "metadata": {},
   "outputs": [],
   "source": [
    "# Tests for the presence of mixed data types in whr2015 dataframe\n",
    "\n",
    "for col in whr2015.columns.tolist():\n",
    "    weird = (whr2015[[col]].applymap(type) != whr2015[[col]].iloc[0].apply(type)).any(axis = 1)\n",
    "    if len (whr2015[weird]) > 0:\n",
    "        print(col)"
   ]
  },
  {
   "cell_type": "code",
   "execution_count": 26,
   "id": "f77ab543",
   "metadata": {},
   "outputs": [],
   "source": [
    "# Tests for the presence of mixed data types in whr2016 dataframe\n",
    "\n",
    "for col in whr2016.columns.tolist():\n",
    "    weird = (whr2016[[col]].applymap(type) != whr2016[[col]].iloc[0].apply(type)).any(axis = 1)\n",
    "    if len (whr2016[weird]) > 0:\n",
    "        print(col)"
   ]
  },
  {
   "cell_type": "code",
   "execution_count": 27,
   "id": "1a159016",
   "metadata": {},
   "outputs": [],
   "source": [
    "# Tests for the presence of mixed data types in whr2017 dataframe\n",
    "\n",
    "for col in whr2017.columns.tolist():\n",
    "    weird = (whr2017[[col]].applymap(type) != whr2017[[col]].iloc[0].apply(type)).any(axis = 1)\n",
    "    if len (whr2017[weird]) > 0:\n",
    "        print(col)"
   ]
  },
  {
   "cell_type": "code",
   "execution_count": 28,
   "id": "83e708ba",
   "metadata": {},
   "outputs": [],
   "source": [
    "# Tests for the presence of mixed data types in whr2018 dataframe\n",
    "\n",
    "for col in whr2018.columns.tolist():\n",
    "    weird = (whr2018[[col]].applymap(type) != whr2018[[col]].iloc[0].apply(type)).any(axis = 1)\n",
    "    if len (whr2018[weird]) > 0:\n",
    "        print(col)"
   ]
  },
  {
   "cell_type": "code",
   "execution_count": 29,
   "id": "353921ca",
   "metadata": {},
   "outputs": [],
   "source": [
    "# Tests for the presence of mixed data types in whr2019 dataframe\n",
    "\n",
    "for col in whr2019.columns.tolist():\n",
    "    weird = (whr2019[[col]].applymap(type) != whr2019[[col]].iloc[0].apply(type)).any(axis = 1)\n",
    "    if len (whr2019[weird]) > 0:\n",
    "        print(col)"
   ]
  },
  {
   "cell_type": "code",
   "execution_count": 30,
   "id": "5d909bb2",
   "metadata": {},
   "outputs": [],
   "source": [
    "# Tests for the presence of mixed data types in whr2020 dataframe\n",
    "\n",
    "for col in whr2020.columns.tolist():\n",
    "    weird = (whr2020[[col]].applymap(type) != whr2020[[col]].iloc[0].apply(type)).any(axis = 1)\n",
    "    if len (whr2020[weird]) > 0:\n",
    "        print(col)"
   ]
  },
  {
   "cell_type": "code",
   "execution_count": 31,
   "id": "351c24b6",
   "metadata": {},
   "outputs": [],
   "source": [
    "# Tests for the presence of mixed data types in whr2021 dataframe\n",
    "\n",
    "for col in whr2021.columns.tolist():\n",
    "    weird = (whr2021[[col]].applymap(type) != whr2021[[col]].iloc[0].apply(type)).any(axis = 1)\n",
    "    if len (whr2021[weird]) > 0:\n",
    "        print(col)"
   ]
  },
  {
   "cell_type": "code",
   "execution_count": 32,
   "id": "800c1117",
   "metadata": {},
   "outputs": [],
   "source": [
    "# Tests for the presence of mixed data types in whr2022 dataframe\n",
    "\n",
    "for col in whr2022.columns.tolist():\n",
    "    weird = (whr2022[[col]].applymap(type) != whr2022[[col]].iloc[0].apply(type)).any(axis = 1)\n",
    "    if len (whr2022[weird]) > 0:\n",
    "        print(col)"
   ]
  },
  {
   "cell_type": "code",
   "execution_count": 33,
   "id": "05d1f4cb",
   "metadata": {},
   "outputs": [],
   "source": [
    "# Tests for the presence of mixed data types in whr2023 dataframe\n",
    "\n",
    "for col in whr2023.columns.tolist():\n",
    "    weird = (whr2023[[col]].applymap(type) != whr2023[[col]].iloc[0].apply(type)).any(axis = 1)\n",
    "    if len (whr2023[weird]) > 0:\n",
    "        print(col)"
   ]
  },
  {
   "cell_type": "markdown",
   "id": "d2548380",
   "metadata": {},
   "source": [
    "##### 5b. Ensuring data types are consistent across dataframes"
   ]
  },
  {
   "cell_type": "code",
   "execution_count": 34,
   "id": "76d6e83d",
   "metadata": {},
   "outputs": [
    {
     "data": {
      "text/plain": [
       "country             object\n",
       "year                 int64\n",
       "happiness_rank       int64\n",
       "happiness_score    float64\n",
       "economic_status    float64\n",
       "social_support     float64\n",
       "life_expectancy    float64\n",
       "freedom            float64\n",
       "govt_trust         float64\n",
       "generosity         float64\n",
       "dtype: object"
      ]
     },
     "execution_count": 34,
     "metadata": {},
     "output_type": "execute_result"
    }
   ],
   "source": [
    "whr2015.dtypes"
   ]
  },
  {
   "cell_type": "code",
   "execution_count": 35,
   "id": "e1212241",
   "metadata": {},
   "outputs": [],
   "source": [
    "# Modifies whr2015 data types\n",
    "\n",
    "whr2015['year'] = whr2015['year'].astype('int16')\n",
    "whr2015['happiness_rank'] = whr2015['happiness_rank'].astype('int16')\n",
    "whr2015['happiness_score'] = whr2015['happiness_score'].astype('float32')\n",
    "whr2015['economic_status'] = whr2015['economic_status'].astype('float32')\n",
    "whr2015['social_support'] = whr2015['social_support'].astype('float32')\n",
    "whr2015['life_expectancy'] = whr2015['life_expectancy'].astype('float32')\n",
    "whr2015['freedom'] = whr2015['freedom'].astype('float32')\n",
    "whr2015['govt_trust'] = whr2015['govt_trust'].astype('float32')\n",
    "whr2015['generosity'] = whr2015['generosity'].astype('float32')"
   ]
  },
  {
   "cell_type": "code",
   "execution_count": 36,
   "id": "8804cd44",
   "metadata": {},
   "outputs": [
    {
     "data": {
      "text/plain": [
       "country             object\n",
       "year                 int64\n",
       "happiness_rank       int64\n",
       "happiness_score    float64\n",
       "economic_status    float64\n",
       "social_support     float64\n",
       "life_expectancy    float64\n",
       "freedom            float64\n",
       "govt_trust         float64\n",
       "generosity         float64\n",
       "dtype: object"
      ]
     },
     "execution_count": 36,
     "metadata": {},
     "output_type": "execute_result"
    }
   ],
   "source": [
    "whr2016.dtypes"
   ]
  },
  {
   "cell_type": "code",
   "execution_count": 37,
   "id": "61d3b7e9",
   "metadata": {},
   "outputs": [],
   "source": [
    "# Modifies whr2016 data types\n",
    "\n",
    "whr2016['year'] = whr2016['year'].astype('int16')\n",
    "whr2016['happiness_rank'] = whr2016['happiness_rank'].astype('int16')\n",
    "whr2016['happiness_score'] = whr2016['happiness_score'].astype('float32')\n",
    "whr2016['economic_status'] = whr2016['economic_status'].astype('float32')\n",
    "whr2016['social_support'] = whr2016['social_support'].astype('float32')\n",
    "whr2016['life_expectancy'] = whr2016['life_expectancy'].astype('float32')\n",
    "whr2016['freedom'] = whr2016['freedom'].astype('float32')\n",
    "whr2016['govt_trust'] = whr2016['govt_trust'].astype('float32')\n",
    "whr2016['generosity'] = whr2016['generosity'].astype('float32')"
   ]
  },
  {
   "cell_type": "code",
   "execution_count": 38,
   "id": "ab6c5db6",
   "metadata": {},
   "outputs": [
    {
     "data": {
      "text/plain": [
       "country             object\n",
       "happiness_rank       int64\n",
       "year                 int64\n",
       "happiness_score    float64\n",
       "economic_status    float64\n",
       "social_support     float64\n",
       "life_expectancy    float64\n",
       "freedom            float64\n",
       "generosity         float64\n",
       "govt_trust         float64\n",
       "dtype: object"
      ]
     },
     "execution_count": 38,
     "metadata": {},
     "output_type": "execute_result"
    }
   ],
   "source": [
    "whr2017.dtypes"
   ]
  },
  {
   "cell_type": "code",
   "execution_count": 39,
   "id": "72762d33",
   "metadata": {},
   "outputs": [],
   "source": [
    "# Modifies whr2017 data types\n",
    "\n",
    "whr2017['year'] = whr2017['year'].astype('int16')\n",
    "whr2017['happiness_rank'] = whr2017['happiness_rank'].astype('int16')\n",
    "whr2017['happiness_score'] = whr2017['happiness_score'].astype('float32')\n",
    "whr2017['economic_status'] = whr2017['economic_status'].astype('float32')\n",
    "whr2017['social_support'] = whr2017['social_support'].astype('float32')\n",
    "whr2017['life_expectancy'] = whr2017['life_expectancy'].astype('float32')\n",
    "whr2017['freedom'] = whr2017['freedom'].astype('float32')\n",
    "whr2017['govt_trust'] = whr2017['govt_trust'].astype('float32')\n",
    "whr2017['generosity'] = whr2017['generosity'].astype('float32')"
   ]
  },
  {
   "cell_type": "code",
   "execution_count": 40,
   "id": "259ddc90",
   "metadata": {},
   "outputs": [
    {
     "data": {
      "text/plain": [
       "happiness_rank       int64\n",
       "country             object\n",
       "happiness_score    float64\n",
       "year                 int64\n",
       "economic_status    float64\n",
       "social_support     float64\n",
       "life_expectancy    float64\n",
       "freedom            float64\n",
       "generosity         float64\n",
       "govt_trust         float64\n",
       "dtype: object"
      ]
     },
     "execution_count": 40,
     "metadata": {},
     "output_type": "execute_result"
    }
   ],
   "source": [
    "whr2018.dtypes"
   ]
  },
  {
   "cell_type": "code",
   "execution_count": 41,
   "id": "0d2280a9",
   "metadata": {},
   "outputs": [],
   "source": [
    "# Modifies whr2018 data types\n",
    "\n",
    "whr2018['year'] = whr2018['year'].astype('int16')\n",
    "whr2018['happiness_rank'] = whr2018['happiness_rank'].astype('int16')\n",
    "whr2018['happiness_score'] = whr2018['happiness_score'].astype('float32')\n",
    "whr2018['economic_status'] = whr2018['economic_status'].astype('float32')\n",
    "whr2018['social_support'] = whr2018['social_support'].astype('float32')\n",
    "whr2018['life_expectancy'] = whr2018['life_expectancy'].astype('float32')\n",
    "whr2018['freedom'] = whr2018['freedom'].astype('float32')\n",
    "whr2018['govt_trust'] = whr2018['govt_trust'].astype('float32')\n",
    "whr2018['generosity'] = whr2018['generosity'].astype('float32')"
   ]
  },
  {
   "cell_type": "code",
   "execution_count": 42,
   "id": "5fe7e392",
   "metadata": {},
   "outputs": [
    {
     "data": {
      "text/plain": [
       "happiness_rank       int64\n",
       "country             object\n",
       "year                 int64\n",
       "happiness_score    float64\n",
       "economic_status    float64\n",
       "social_support     float64\n",
       "life_expectancy    float64\n",
       "freedom            float64\n",
       "generosity         float64\n",
       "govt_trust         float64\n",
       "dtype: object"
      ]
     },
     "execution_count": 42,
     "metadata": {},
     "output_type": "execute_result"
    }
   ],
   "source": [
    "whr2019.dtypes"
   ]
  },
  {
   "cell_type": "code",
   "execution_count": 43,
   "id": "33949499",
   "metadata": {},
   "outputs": [],
   "source": [
    "# Modifies whr2019 data types\n",
    "\n",
    "whr2019['year'] = whr2019['year'].astype('int16')\n",
    "whr2019['happiness_rank'] = whr2019['happiness_rank'].astype('int16')\n",
    "whr2019['happiness_score'] = whr2019['happiness_score'].astype('float32')\n",
    "whr2019['economic_status'] = whr2019['economic_status'].astype('float32')\n",
    "whr2019['social_support'] = whr2019['social_support'].astype('float32')\n",
    "whr2019['life_expectancy'] = whr2019['life_expectancy'].astype('float32')\n",
    "whr2019['freedom'] = whr2019['freedom'].astype('float32')\n",
    "whr2019['govt_trust'] = whr2019['govt_trust'].astype('float32')\n",
    "whr2019['generosity'] = whr2019['generosity'].astype('float32')"
   ]
  },
  {
   "cell_type": "code",
   "execution_count": 44,
   "id": "100ea7dd",
   "metadata": {},
   "outputs": [
    {
     "data": {
      "text/plain": [
       "happiness_rank       int64\n",
       "country             object\n",
       "year                 int64\n",
       "happiness_score    float64\n",
       "economic_status    float64\n",
       "social_support     float64\n",
       "life_expectancy    float64\n",
       "freedom            float64\n",
       "generosity         float64\n",
       "govt_trust         float64\n",
       "dtype: object"
      ]
     },
     "execution_count": 44,
     "metadata": {},
     "output_type": "execute_result"
    }
   ],
   "source": [
    "whr2020.dtypes"
   ]
  },
  {
   "cell_type": "code",
   "execution_count": 45,
   "id": "51989ae7",
   "metadata": {},
   "outputs": [],
   "source": [
    "# Modifies whr2020 data types\n",
    "\n",
    "whr2020['year'] = whr2020['year'].astype('int16')\n",
    "whr2020['happiness_rank'] = whr2020['happiness_rank'].astype('int16')\n",
    "whr2020['happiness_score'] = whr2020['happiness_score'].astype('float32')\n",
    "whr2020['economic_status'] = whr2020['economic_status'].astype('float32')\n",
    "whr2020['social_support'] = whr2020['social_support'].astype('float32')\n",
    "whr2020['life_expectancy'] = whr2020['life_expectancy'].astype('float32')\n",
    "whr2020['freedom'] = whr2020['freedom'].astype('float32')\n",
    "whr2020['govt_trust'] = whr2020['govt_trust'].astype('float32')\n",
    "whr2020['generosity'] = whr2020['generosity'].astype('float32')"
   ]
  },
  {
   "cell_type": "code",
   "execution_count": 46,
   "id": "aff7089c",
   "metadata": {},
   "outputs": [
    {
     "data": {
      "text/plain": [
       "happiness_rank       int64\n",
       "country             object\n",
       "year                 int64\n",
       "happiness_score    float64\n",
       "economic_status    float64\n",
       "social_support     float64\n",
       "life_expectancy    float64\n",
       "freedom            float64\n",
       "generosity         float64\n",
       "govt_trust         float64\n",
       "dtype: object"
      ]
     },
     "execution_count": 46,
     "metadata": {},
     "output_type": "execute_result"
    }
   ],
   "source": [
    "whr2021.dtypes"
   ]
  },
  {
   "cell_type": "code",
   "execution_count": 47,
   "id": "d23369d8",
   "metadata": {},
   "outputs": [],
   "source": [
    "# Modifies whr2021 data types\n",
    "\n",
    "whr2021['year'] = whr2021['year'].astype('int16')\n",
    "whr2021['happiness_rank'] = whr2021['happiness_rank'].astype('int16')\n",
    "whr2021['happiness_score'] = whr2021['happiness_score'].astype('float32')\n",
    "whr2021['economic_status'] = whr2021['economic_status'].astype('float32')\n",
    "whr2021['social_support'] = whr2021['social_support'].astype('float32')\n",
    "whr2021['life_expectancy'] = whr2021['life_expectancy'].astype('float32')\n",
    "whr2021['freedom'] = whr2021['freedom'].astype('float32')\n",
    "whr2021['govt_trust'] = whr2021['govt_trust'].astype('float32')\n",
    "whr2021['generosity'] = whr2021['generosity'].astype('float32')"
   ]
  },
  {
   "cell_type": "code",
   "execution_count": 48,
   "id": "2c7e186f",
   "metadata": {},
   "outputs": [
    {
     "data": {
      "text/plain": [
       "happiness_rank      int64\n",
       "country            object\n",
       "year                int64\n",
       "happiness_score    object\n",
       "economic_status    object\n",
       "social_support     object\n",
       "life_expectancy    object\n",
       "freedom            object\n",
       "generosity         object\n",
       "govt_trust         object\n",
       "dtype: object"
      ]
     },
     "execution_count": 48,
     "metadata": {},
     "output_type": "execute_result"
    }
   ],
   "source": [
    "whr2022.dtypes"
   ]
  },
  {
   "cell_type": "code",
   "execution_count": 49,
   "id": "b03656ca",
   "metadata": {},
   "outputs": [],
   "source": [
    "# Modifies whr2022 data types\n",
    "\n",
    "whr2022['year'] = whr2022['year'].astype('int16')\n",
    "whr2022['happiness_rank'] = whr2022['happiness_rank'].astype('int16')\n",
    "whr2022['happiness_score'] = whr2022['happiness_score'].astype('float32')\n",
    "whr2022['economic_status'] = whr2022['economic_status'].astype('float32')\n",
    "whr2022['social_support'] = whr2022['social_support'].astype('float32')\n",
    "whr2022['life_expectancy'] = whr2022['life_expectancy'].astype('float32')\n",
    "whr2022['freedom'] = whr2022['freedom'].astype('float32')\n",
    "whr2022['govt_trust'] = whr2022['govt_trust'].astype('float32')\n",
    "whr2022['generosity'] = whr2022['generosity'].astype('float32')"
   ]
  },
  {
   "cell_type": "code",
   "execution_count": 50,
   "id": "9f9b7967",
   "metadata": {},
   "outputs": [
    {
     "data": {
      "text/plain": [
       "happiness_rank       int64\n",
       "country             object\n",
       "happiness_score    float64\n",
       "year                 int64\n",
       "economic_status    float64\n",
       "social_support     float64\n",
       "life_expectancy    float64\n",
       "freedom            float64\n",
       "generosity         float64\n",
       "govt_trust         float64\n",
       "dtype: object"
      ]
     },
     "execution_count": 50,
     "metadata": {},
     "output_type": "execute_result"
    }
   ],
   "source": [
    "whr2023.dtypes"
   ]
  },
  {
   "cell_type": "code",
   "execution_count": 51,
   "id": "2d71af5e",
   "metadata": {},
   "outputs": [],
   "source": [
    "# Modifies whr2023 data types\n",
    "\n",
    "whr2023['year'] = whr2023['year'].astype('int16')\n",
    "whr2023['happiness_rank'] = whr2023['happiness_rank'].astype('int16')\n",
    "whr2023['happiness_score'] = whr2023['happiness_score'].astype('float32')\n",
    "whr2023['economic_status'] = whr2023['economic_status'].astype('float32')\n",
    "whr2023['social_support'] = whr2023['social_support'].astype('float32')\n",
    "whr2023['life_expectancy'] = whr2023['life_expectancy'].astype('float32')\n",
    "whr2023['freedom'] = whr2023['freedom'].astype('float32')\n",
    "whr2023['govt_trust'] = whr2023['govt_trust'].astype('float32')\n",
    "whr2023['generosity'] = whr2023['generosity'].astype('float32')"
   ]
  },
  {
   "cell_type": "markdown",
   "id": "5f21bbb1",
   "metadata": {},
   "source": [
    "***\n",
    "### 6) Concatenating all 9 dataframes"
   ]
  },
  {
   "cell_type": "code",
   "execution_count": 52,
   "id": "c21efe23",
   "metadata": {},
   "outputs": [],
   "source": [
    "# Concatenates all dataframes (whr2015 - whr2023) vertically\n",
    "# dataframes = [whr2015, whr2016, whr2017, whr2018, whr2019, whr2020, whr2021, whr2022, whr2023] --- defined earlier\n",
    "\n",
    "whr_combined = pd.concat(dataframes, ignore_index=True)"
   ]
  },
  {
   "cell_type": "code",
   "execution_count": 53,
   "id": "6c647593",
   "metadata": {},
   "outputs": [],
   "source": [
    "# Modifying the column order in the whr_combined dataframe\n",
    "\n",
    "new_column_order = [\n",
    "    'country',\n",
    "    'year',\n",
    "    'happiness_rank',\n",
    "    'happiness_score',\n",
    "    'economic_status',\n",
    "    'social_support',\n",
    "    'life_expectancy',\n",
    "    'freedom',\n",
    "    'generosity',\n",
    "    'govt_trust'\n",
    "]\n",
    "\n",
    "whr_combined = whr_combined[new_column_order]"
   ]
  },
  {
   "cell_type": "code",
   "execution_count": 54,
   "id": "d659455b",
   "metadata": {},
   "outputs": [
    {
     "data": {
      "text/html": [
       "<div>\n",
       "<style scoped>\n",
       "    .dataframe tbody tr th:only-of-type {\n",
       "        vertical-align: middle;\n",
       "    }\n",
       "\n",
       "    .dataframe tbody tr th {\n",
       "        vertical-align: top;\n",
       "    }\n",
       "\n",
       "    .dataframe thead th {\n",
       "        text-align: right;\n",
       "    }\n",
       "</style>\n",
       "<table border=\"1\" class=\"dataframe\">\n",
       "  <thead>\n",
       "    <tr style=\"text-align: right;\">\n",
       "      <th></th>\n",
       "      <th>country</th>\n",
       "      <th>year</th>\n",
       "      <th>happiness_rank</th>\n",
       "      <th>happiness_score</th>\n",
       "      <th>economic_status</th>\n",
       "      <th>social_support</th>\n",
       "      <th>life_expectancy</th>\n",
       "      <th>freedom</th>\n",
       "      <th>generosity</th>\n",
       "      <th>govt_trust</th>\n",
       "    </tr>\n",
       "  </thead>\n",
       "  <tbody>\n",
       "    <tr>\n",
       "      <th>0</th>\n",
       "      <td>Switzerland</td>\n",
       "      <td>2015</td>\n",
       "      <td>1</td>\n",
       "      <td>7.587</td>\n",
       "      <td>1.39651</td>\n",
       "      <td>1.34951</td>\n",
       "      <td>0.94143</td>\n",
       "      <td>0.66557</td>\n",
       "      <td>0.29678</td>\n",
       "      <td>0.41978</td>\n",
       "    </tr>\n",
       "    <tr>\n",
       "      <th>1</th>\n",
       "      <td>Iceland</td>\n",
       "      <td>2015</td>\n",
       "      <td>2</td>\n",
       "      <td>7.561</td>\n",
       "      <td>1.30232</td>\n",
       "      <td>1.40223</td>\n",
       "      <td>0.94784</td>\n",
       "      <td>0.62877</td>\n",
       "      <td>0.43630</td>\n",
       "      <td>0.14145</td>\n",
       "    </tr>\n",
       "    <tr>\n",
       "      <th>2</th>\n",
       "      <td>Denmark</td>\n",
       "      <td>2015</td>\n",
       "      <td>3</td>\n",
       "      <td>7.527</td>\n",
       "      <td>1.32548</td>\n",
       "      <td>1.36058</td>\n",
       "      <td>0.87464</td>\n",
       "      <td>0.64938</td>\n",
       "      <td>0.34139</td>\n",
       "      <td>0.48357</td>\n",
       "    </tr>\n",
       "    <tr>\n",
       "      <th>3</th>\n",
       "      <td>Norway</td>\n",
       "      <td>2015</td>\n",
       "      <td>4</td>\n",
       "      <td>7.522</td>\n",
       "      <td>1.45900</td>\n",
       "      <td>1.33095</td>\n",
       "      <td>0.88521</td>\n",
       "      <td>0.66973</td>\n",
       "      <td>0.34699</td>\n",
       "      <td>0.36503</td>\n",
       "    </tr>\n",
       "    <tr>\n",
       "      <th>4</th>\n",
       "      <td>Canada</td>\n",
       "      <td>2015</td>\n",
       "      <td>5</td>\n",
       "      <td>7.427</td>\n",
       "      <td>1.32629</td>\n",
       "      <td>1.32261</td>\n",
       "      <td>0.90563</td>\n",
       "      <td>0.63297</td>\n",
       "      <td>0.45811</td>\n",
       "      <td>0.32957</td>\n",
       "    </tr>\n",
       "  </tbody>\n",
       "</table>\n",
       "</div>"
      ],
      "text/plain": [
       "       country  year  happiness_rank  happiness_score  economic_status  \\\n",
       "0  Switzerland  2015               1            7.587          1.39651   \n",
       "1      Iceland  2015               2            7.561          1.30232   \n",
       "2      Denmark  2015               3            7.527          1.32548   \n",
       "3       Norway  2015               4            7.522          1.45900   \n",
       "4       Canada  2015               5            7.427          1.32629   \n",
       "\n",
       "   social_support  life_expectancy  freedom  generosity  govt_trust  \n",
       "0         1.34951          0.94143  0.66557     0.29678     0.41978  \n",
       "1         1.40223          0.94784  0.62877     0.43630     0.14145  \n",
       "2         1.36058          0.87464  0.64938     0.34139     0.48357  \n",
       "3         1.33095          0.88521  0.66973     0.34699     0.36503  \n",
       "4         1.32261          0.90563  0.63297     0.45811     0.32957  "
      ]
     },
     "execution_count": 54,
     "metadata": {},
     "output_type": "execute_result"
    }
   ],
   "source": [
    "whr_combined.head()"
   ]
  },
  {
   "cell_type": "markdown",
   "id": "51181f2d",
   "metadata": {},
   "source": [
    "***\n",
    "### 7) Checking for missing values in the combined dataframe"
   ]
  },
  {
   "cell_type": "code",
   "execution_count": 55,
   "id": "b8197488",
   "metadata": {},
   "outputs": [
    {
     "data": {
      "text/plain": [
       "country            0\n",
       "year               0\n",
       "happiness_rank     0\n",
       "happiness_score    0\n",
       "economic_status    0\n",
       "social_support     0\n",
       "life_expectancy    1\n",
       "freedom            0\n",
       "generosity         0\n",
       "govt_trust         1\n",
       "dtype: int64"
      ]
     },
     "execution_count": 55,
     "metadata": {},
     "output_type": "execute_result"
    }
   ],
   "source": [
    "# Determines how many missing values are in each column\n",
    "\n",
    "whr_combined.isnull().sum()"
   ]
  },
  {
   "cell_type": "code",
   "execution_count": 56,
   "id": "ab0b4892",
   "metadata": {},
   "outputs": [
    {
     "name": "stdout",
     "output_type": "stream",
     "text": [
      "                 country  year  happiness_rank  happiness_score  \\\n",
      "1328  State of Palestine  2023              99            4.908   \n",
      "\n",
      "      economic_status  social_support  life_expectancy  freedom  generosity  \\\n",
      "1328            1.144           1.309              NaN    0.416       0.065   \n",
      "\n",
      "      govt_trust  \n",
      "1328       0.067  \n"
     ]
    }
   ],
   "source": [
    "# Locates the row within the 'life_expectancy' column containing the missing value\n",
    "\n",
    "missing_life_expectancy = whr_combined[whr_combined['life_expectancy'].isnull()]\n",
    "print(missing_life_expectancy)"
   ]
  },
  {
   "cell_type": "code",
   "execution_count": 57,
   "id": "a1c7228b",
   "metadata": {},
   "outputs": [
    {
     "name": "stdout",
     "output_type": "stream",
     "text": [
      "                  country  year  happiness_rank  happiness_score  \\\n",
      "489  United Arab Emirates  2018              20            6.774   \n",
      "\n",
      "     economic_status  social_support  life_expectancy  freedom  generosity  \\\n",
      "489            2.096           0.776             0.67    0.284       0.186   \n",
      "\n",
      "     govt_trust  \n",
      "489         NaN  \n"
     ]
    }
   ],
   "source": [
    "# Locates the row within the 'govt_trust' column containing the missing value\n",
    "\n",
    "missing_govt_trust = whr_combined[whr_combined['govt_trust'].isnull()]\n",
    "print(missing_govt_trust)"
   ]
  },
  {
   "cell_type": "code",
   "execution_count": 58,
   "id": "3297101a",
   "metadata": {},
   "outputs": [
    {
     "data": {
      "text/html": [
       "<div>\n",
       "<style scoped>\n",
       "    .dataframe tbody tr th:only-of-type {\n",
       "        vertical-align: middle;\n",
       "    }\n",
       "\n",
       "    .dataframe tbody tr th {\n",
       "        vertical-align: top;\n",
       "    }\n",
       "\n",
       "    .dataframe thead th {\n",
       "        text-align: right;\n",
       "    }\n",
       "</style>\n",
       "<table border=\"1\" class=\"dataframe\">\n",
       "  <thead>\n",
       "    <tr style=\"text-align: right;\">\n",
       "      <th></th>\n",
       "      <th>country</th>\n",
       "      <th>year</th>\n",
       "      <th>happiness_rank</th>\n",
       "      <th>happiness_score</th>\n",
       "      <th>economic_status</th>\n",
       "      <th>social_support</th>\n",
       "      <th>life_expectancy</th>\n",
       "      <th>freedom</th>\n",
       "      <th>generosity</th>\n",
       "      <th>govt_trust</th>\n",
       "    </tr>\n",
       "  </thead>\n",
       "  <tbody>\n",
       "    <tr>\n",
       "      <th>19</th>\n",
       "      <td>United Arab Emirates</td>\n",
       "      <td>2015</td>\n",
       "      <td>20</td>\n",
       "      <td>6.9010</td>\n",
       "      <td>1.427270</td>\n",
       "      <td>1.125750</td>\n",
       "      <td>0.809250</td>\n",
       "      <td>0.641570</td>\n",
       "      <td>0.264280</td>\n",
       "      <td>0.385830</td>\n",
       "    </tr>\n",
       "    <tr>\n",
       "      <th>185</th>\n",
       "      <td>United Arab Emirates</td>\n",
       "      <td>2016</td>\n",
       "      <td>28</td>\n",
       "      <td>6.5730</td>\n",
       "      <td>1.573520</td>\n",
       "      <td>0.871140</td>\n",
       "      <td>0.729930</td>\n",
       "      <td>0.562150</td>\n",
       "      <td>0.265910</td>\n",
       "      <td>0.355610</td>\n",
       "    </tr>\n",
       "    <tr>\n",
       "      <th>335</th>\n",
       "      <td>United Arab Emirates</td>\n",
       "      <td>2017</td>\n",
       "      <td>21</td>\n",
       "      <td>6.6480</td>\n",
       "      <td>1.626343</td>\n",
       "      <td>1.266410</td>\n",
       "      <td>0.726798</td>\n",
       "      <td>0.608345</td>\n",
       "      <td>0.360942</td>\n",
       "      <td>0.324490</td>\n",
       "    </tr>\n",
       "    <tr>\n",
       "      <th>489</th>\n",
       "      <td>United Arab Emirates</td>\n",
       "      <td>2018</td>\n",
       "      <td>20</td>\n",
       "      <td>6.7740</td>\n",
       "      <td>2.096000</td>\n",
       "      <td>0.776000</td>\n",
       "      <td>0.670000</td>\n",
       "      <td>0.284000</td>\n",
       "      <td>0.186000</td>\n",
       "      <td>NaN</td>\n",
       "    </tr>\n",
       "    <tr>\n",
       "      <th>646</th>\n",
       "      <td>United Arab Emirates</td>\n",
       "      <td>2019</td>\n",
       "      <td>21</td>\n",
       "      <td>6.8250</td>\n",
       "      <td>1.503000</td>\n",
       "      <td>1.310000</td>\n",
       "      <td>0.825000</td>\n",
       "      <td>0.598000</td>\n",
       "      <td>0.262000</td>\n",
       "      <td>0.182000</td>\n",
       "    </tr>\n",
       "    <tr>\n",
       "      <th>802</th>\n",
       "      <td>United Arab Emirates</td>\n",
       "      <td>2020</td>\n",
       "      <td>21</td>\n",
       "      <td>6.7908</td>\n",
       "      <td>1.431086</td>\n",
       "      <td>1.251171</td>\n",
       "      <td>0.787814</td>\n",
       "      <td>0.652936</td>\n",
       "      <td>0.280656</td>\n",
       "      <td>0.220214</td>\n",
       "    </tr>\n",
       "    <tr>\n",
       "      <th>959</th>\n",
       "      <td>United Arab Emirates</td>\n",
       "      <td>2021</td>\n",
       "      <td>25</td>\n",
       "      <td>6.5610</td>\n",
       "      <td>1.555000</td>\n",
       "      <td>0.860000</td>\n",
       "      <td>0.594000</td>\n",
       "      <td>0.670000</td>\n",
       "      <td>0.236000</td>\n",
       "      <td>0.223000</td>\n",
       "    </tr>\n",
       "    <tr>\n",
       "      <th>1107</th>\n",
       "      <td>United Arab Emirates</td>\n",
       "      <td>2022</td>\n",
       "      <td>24</td>\n",
       "      <td>6.5760</td>\n",
       "      <td>1.998000</td>\n",
       "      <td>0.980000</td>\n",
       "      <td>0.633000</td>\n",
       "      <td>0.702000</td>\n",
       "      <td>0.204000</td>\n",
       "      <td>0.250000</td>\n",
       "    </tr>\n",
       "    <tr>\n",
       "      <th>1255</th>\n",
       "      <td>United Arab Emirates</td>\n",
       "      <td>2023</td>\n",
       "      <td>26</td>\n",
       "      <td>6.5710</td>\n",
       "      <td>2.015000</td>\n",
       "      <td>1.223000</td>\n",
       "      <td>0.401000</td>\n",
       "      <td>0.745000</td>\n",
       "      <td>0.188000</td>\n",
       "      <td>0.247000</td>\n",
       "    </tr>\n",
       "  </tbody>\n",
       "</table>\n",
       "</div>"
      ],
      "text/plain": [
       "                   country  year  happiness_rank  happiness_score  \\\n",
       "19    United Arab Emirates  2015              20           6.9010   \n",
       "185   United Arab Emirates  2016              28           6.5730   \n",
       "335   United Arab Emirates  2017              21           6.6480   \n",
       "489   United Arab Emirates  2018              20           6.7740   \n",
       "646   United Arab Emirates  2019              21           6.8250   \n",
       "802   United Arab Emirates  2020              21           6.7908   \n",
       "959   United Arab Emirates  2021              25           6.5610   \n",
       "1107  United Arab Emirates  2022              24           6.5760   \n",
       "1255  United Arab Emirates  2023              26           6.5710   \n",
       "\n",
       "      economic_status  social_support  life_expectancy   freedom  generosity  \\\n",
       "19           1.427270        1.125750         0.809250  0.641570    0.264280   \n",
       "185          1.573520        0.871140         0.729930  0.562150    0.265910   \n",
       "335          1.626343        1.266410         0.726798  0.608345    0.360942   \n",
       "489          2.096000        0.776000         0.670000  0.284000    0.186000   \n",
       "646          1.503000        1.310000         0.825000  0.598000    0.262000   \n",
       "802          1.431086        1.251171         0.787814  0.652936    0.280656   \n",
       "959          1.555000        0.860000         0.594000  0.670000    0.236000   \n",
       "1107         1.998000        0.980000         0.633000  0.702000    0.204000   \n",
       "1255         2.015000        1.223000         0.401000  0.745000    0.188000   \n",
       "\n",
       "      govt_trust  \n",
       "19      0.385830  \n",
       "185     0.355610  \n",
       "335     0.324490  \n",
       "489          NaN  \n",
       "646     0.182000  \n",
       "802     0.220214  \n",
       "959     0.223000  \n",
       "1107    0.250000  \n",
       "1255    0.247000  "
      ]
     },
     "execution_count": 58,
     "metadata": {},
     "output_type": "execute_result"
    }
   ],
   "source": [
    "# Viewing all data related to United Arab Emirates\n",
    "\n",
    "whr_combined.loc[(whr_combined['country'] == 'United Arab Emirates')]"
   ]
  },
  {
   "cell_type": "code",
   "execution_count": 59,
   "id": "3c2d32de",
   "metadata": {},
   "outputs": [],
   "source": [
    "# Impute the 2018 'govt_trust' value [mean of 2017 (0.32449) and 2019 (0.182)]\n",
    "\n",
    "whr_combined.at[489, 'govt_trust'] = (0.32449 + 0.182)/2"
   ]
  },
  {
   "cell_type": "code",
   "execution_count": 60,
   "id": "f91d2883",
   "metadata": {},
   "outputs": [
    {
     "data": {
      "text/html": [
       "<div>\n",
       "<style scoped>\n",
       "    .dataframe tbody tr th:only-of-type {\n",
       "        vertical-align: middle;\n",
       "    }\n",
       "\n",
       "    .dataframe tbody tr th {\n",
       "        vertical-align: top;\n",
       "    }\n",
       "\n",
       "    .dataframe thead th {\n",
       "        text-align: right;\n",
       "    }\n",
       "</style>\n",
       "<table border=\"1\" class=\"dataframe\">\n",
       "  <thead>\n",
       "    <tr style=\"text-align: right;\">\n",
       "      <th></th>\n",
       "      <th>country</th>\n",
       "      <th>year</th>\n",
       "      <th>happiness_rank</th>\n",
       "      <th>happiness_score</th>\n",
       "      <th>economic_status</th>\n",
       "      <th>social_support</th>\n",
       "      <th>life_expectancy</th>\n",
       "      <th>freedom</th>\n",
       "      <th>generosity</th>\n",
       "      <th>govt_trust</th>\n",
       "    </tr>\n",
       "  </thead>\n",
       "  <tbody>\n",
       "    <tr>\n",
       "      <th>19</th>\n",
       "      <td>United Arab Emirates</td>\n",
       "      <td>2015</td>\n",
       "      <td>20</td>\n",
       "      <td>6.9010</td>\n",
       "      <td>1.427270</td>\n",
       "      <td>1.125750</td>\n",
       "      <td>0.809250</td>\n",
       "      <td>0.641570</td>\n",
       "      <td>0.264280</td>\n",
       "      <td>0.385830</td>\n",
       "    </tr>\n",
       "    <tr>\n",
       "      <th>185</th>\n",
       "      <td>United Arab Emirates</td>\n",
       "      <td>2016</td>\n",
       "      <td>28</td>\n",
       "      <td>6.5730</td>\n",
       "      <td>1.573520</td>\n",
       "      <td>0.871140</td>\n",
       "      <td>0.729930</td>\n",
       "      <td>0.562150</td>\n",
       "      <td>0.265910</td>\n",
       "      <td>0.355610</td>\n",
       "    </tr>\n",
       "    <tr>\n",
       "      <th>335</th>\n",
       "      <td>United Arab Emirates</td>\n",
       "      <td>2017</td>\n",
       "      <td>21</td>\n",
       "      <td>6.6480</td>\n",
       "      <td>1.626343</td>\n",
       "      <td>1.266410</td>\n",
       "      <td>0.726798</td>\n",
       "      <td>0.608345</td>\n",
       "      <td>0.360942</td>\n",
       "      <td>0.324490</td>\n",
       "    </tr>\n",
       "    <tr>\n",
       "      <th>489</th>\n",
       "      <td>United Arab Emirates</td>\n",
       "      <td>2018</td>\n",
       "      <td>20</td>\n",
       "      <td>6.7740</td>\n",
       "      <td>2.096000</td>\n",
       "      <td>0.776000</td>\n",
       "      <td>0.670000</td>\n",
       "      <td>0.284000</td>\n",
       "      <td>0.186000</td>\n",
       "      <td>0.253245</td>\n",
       "    </tr>\n",
       "    <tr>\n",
       "      <th>646</th>\n",
       "      <td>United Arab Emirates</td>\n",
       "      <td>2019</td>\n",
       "      <td>21</td>\n",
       "      <td>6.8250</td>\n",
       "      <td>1.503000</td>\n",
       "      <td>1.310000</td>\n",
       "      <td>0.825000</td>\n",
       "      <td>0.598000</td>\n",
       "      <td>0.262000</td>\n",
       "      <td>0.182000</td>\n",
       "    </tr>\n",
       "    <tr>\n",
       "      <th>802</th>\n",
       "      <td>United Arab Emirates</td>\n",
       "      <td>2020</td>\n",
       "      <td>21</td>\n",
       "      <td>6.7908</td>\n",
       "      <td>1.431086</td>\n",
       "      <td>1.251171</td>\n",
       "      <td>0.787814</td>\n",
       "      <td>0.652936</td>\n",
       "      <td>0.280656</td>\n",
       "      <td>0.220214</td>\n",
       "    </tr>\n",
       "    <tr>\n",
       "      <th>959</th>\n",
       "      <td>United Arab Emirates</td>\n",
       "      <td>2021</td>\n",
       "      <td>25</td>\n",
       "      <td>6.5610</td>\n",
       "      <td>1.555000</td>\n",
       "      <td>0.860000</td>\n",
       "      <td>0.594000</td>\n",
       "      <td>0.670000</td>\n",
       "      <td>0.236000</td>\n",
       "      <td>0.223000</td>\n",
       "    </tr>\n",
       "    <tr>\n",
       "      <th>1107</th>\n",
       "      <td>United Arab Emirates</td>\n",
       "      <td>2022</td>\n",
       "      <td>24</td>\n",
       "      <td>6.5760</td>\n",
       "      <td>1.998000</td>\n",
       "      <td>0.980000</td>\n",
       "      <td>0.633000</td>\n",
       "      <td>0.702000</td>\n",
       "      <td>0.204000</td>\n",
       "      <td>0.250000</td>\n",
       "    </tr>\n",
       "    <tr>\n",
       "      <th>1255</th>\n",
       "      <td>United Arab Emirates</td>\n",
       "      <td>2023</td>\n",
       "      <td>26</td>\n",
       "      <td>6.5710</td>\n",
       "      <td>2.015000</td>\n",
       "      <td>1.223000</td>\n",
       "      <td>0.401000</td>\n",
       "      <td>0.745000</td>\n",
       "      <td>0.188000</td>\n",
       "      <td>0.247000</td>\n",
       "    </tr>\n",
       "  </tbody>\n",
       "</table>\n",
       "</div>"
      ],
      "text/plain": [
       "                   country  year  happiness_rank  happiness_score  \\\n",
       "19    United Arab Emirates  2015              20           6.9010   \n",
       "185   United Arab Emirates  2016              28           6.5730   \n",
       "335   United Arab Emirates  2017              21           6.6480   \n",
       "489   United Arab Emirates  2018              20           6.7740   \n",
       "646   United Arab Emirates  2019              21           6.8250   \n",
       "802   United Arab Emirates  2020              21           6.7908   \n",
       "959   United Arab Emirates  2021              25           6.5610   \n",
       "1107  United Arab Emirates  2022              24           6.5760   \n",
       "1255  United Arab Emirates  2023              26           6.5710   \n",
       "\n",
       "      economic_status  social_support  life_expectancy   freedom  generosity  \\\n",
       "19           1.427270        1.125750         0.809250  0.641570    0.264280   \n",
       "185          1.573520        0.871140         0.729930  0.562150    0.265910   \n",
       "335          1.626343        1.266410         0.726798  0.608345    0.360942   \n",
       "489          2.096000        0.776000         0.670000  0.284000    0.186000   \n",
       "646          1.503000        1.310000         0.825000  0.598000    0.262000   \n",
       "802          1.431086        1.251171         0.787814  0.652936    0.280656   \n",
       "959          1.555000        0.860000         0.594000  0.670000    0.236000   \n",
       "1107         1.998000        0.980000         0.633000  0.702000    0.204000   \n",
       "1255         2.015000        1.223000         0.401000  0.745000    0.188000   \n",
       "\n",
       "      govt_trust  \n",
       "19      0.385830  \n",
       "185     0.355610  \n",
       "335     0.324490  \n",
       "489     0.253245  \n",
       "646     0.182000  \n",
       "802     0.220214  \n",
       "959     0.223000  \n",
       "1107    0.250000  \n",
       "1255    0.247000  "
      ]
     },
     "execution_count": 60,
     "metadata": {},
     "output_type": "execute_result"
    }
   ],
   "source": [
    "# Views the new value\n",
    "\n",
    "whr_combined.loc[(whr_combined['country'] == 'United Arab Emirates')]"
   ]
  },
  {
   "cell_type": "code",
   "execution_count": 61,
   "id": "122932ad",
   "metadata": {},
   "outputs": [
    {
     "data": {
      "text/html": [
       "<div>\n",
       "<style scoped>\n",
       "    .dataframe tbody tr th:only-of-type {\n",
       "        vertical-align: middle;\n",
       "    }\n",
       "\n",
       "    .dataframe tbody tr th {\n",
       "        vertical-align: top;\n",
       "    }\n",
       "\n",
       "    .dataframe thead th {\n",
       "        text-align: right;\n",
       "    }\n",
       "</style>\n",
       "<table border=\"1\" class=\"dataframe\">\n",
       "  <thead>\n",
       "    <tr style=\"text-align: right;\">\n",
       "      <th></th>\n",
       "      <th>country</th>\n",
       "      <th>year</th>\n",
       "      <th>happiness_rank</th>\n",
       "      <th>happiness_score</th>\n",
       "      <th>economic_status</th>\n",
       "      <th>social_support</th>\n",
       "      <th>life_expectancy</th>\n",
       "      <th>freedom</th>\n",
       "      <th>generosity</th>\n",
       "      <th>govt_trust</th>\n",
       "    </tr>\n",
       "  </thead>\n",
       "  <tbody>\n",
       "    <tr>\n",
       "      <th>1328</th>\n",
       "      <td>State of Palestine</td>\n",
       "      <td>2023</td>\n",
       "      <td>99</td>\n",
       "      <td>4.908</td>\n",
       "      <td>1.144</td>\n",
       "      <td>1.309</td>\n",
       "      <td>NaN</td>\n",
       "      <td>0.416</td>\n",
       "      <td>0.065</td>\n",
       "      <td>0.067</td>\n",
       "    </tr>\n",
       "  </tbody>\n",
       "</table>\n",
       "</div>"
      ],
      "text/plain": [
       "                 country  year  happiness_rank  happiness_score  \\\n",
       "1328  State of Palestine  2023              99            4.908   \n",
       "\n",
       "      economic_status  social_support  life_expectancy  freedom  generosity  \\\n",
       "1328            1.144           1.309              NaN    0.416       0.065   \n",
       "\n",
       "      govt_trust  \n",
       "1328       0.067  "
      ]
     },
     "execution_count": 61,
     "metadata": {},
     "output_type": "execute_result"
    }
   ],
   "source": [
    "# Viewing all data related to State of Palestine\n",
    "\n",
    "whr_combined.loc[(whr_combined['country'] == 'State of Palestine')]\n",
    "\n",
    "# Apparently there are multiple variations of the country name 'Palestine'"
   ]
  },
  {
   "cell_type": "code",
   "execution_count": 62,
   "id": "ef5edbf1",
   "metadata": {},
   "outputs": [
    {
     "data": {
      "text/html": [
       "<div>\n",
       "<style scoped>\n",
       "    .dataframe tbody tr th:only-of-type {\n",
       "        vertical-align: middle;\n",
       "    }\n",
       "\n",
       "    .dataframe tbody tr th {\n",
       "        vertical-align: top;\n",
       "    }\n",
       "\n",
       "    .dataframe thead th {\n",
       "        text-align: right;\n",
       "    }\n",
       "</style>\n",
       "<table border=\"1\" class=\"dataframe\">\n",
       "  <thead>\n",
       "    <tr style=\"text-align: right;\">\n",
       "      <th></th>\n",
       "      <th>country</th>\n",
       "      <th>year</th>\n",
       "      <th>happiness_rank</th>\n",
       "      <th>happiness_score</th>\n",
       "      <th>economic_status</th>\n",
       "      <th>social_support</th>\n",
       "      <th>life_expectancy</th>\n",
       "      <th>freedom</th>\n",
       "      <th>generosity</th>\n",
       "      <th>govt_trust</th>\n",
       "    </tr>\n",
       "  </thead>\n",
       "  <tbody>\n",
       "    <tr>\n",
       "      <th>107</th>\n",
       "      <td>Palestinian Territories</td>\n",
       "      <td>2015</td>\n",
       "      <td>108</td>\n",
       "      <td>4.7150</td>\n",
       "      <td>0.598670</td>\n",
       "      <td>0.925580</td>\n",
       "      <td>0.660150</td>\n",
       "      <td>0.244990</td>\n",
       "      <td>0.112510</td>\n",
       "      <td>0.129050</td>\n",
       "    </tr>\n",
       "    <tr>\n",
       "      <th>265</th>\n",
       "      <td>Palestinian Territories</td>\n",
       "      <td>2016</td>\n",
       "      <td>108</td>\n",
       "      <td>4.7540</td>\n",
       "      <td>0.670240</td>\n",
       "      <td>0.716290</td>\n",
       "      <td>0.568440</td>\n",
       "      <td>0.177440</td>\n",
       "      <td>0.111540</td>\n",
       "      <td>0.106130</td>\n",
       "    </tr>\n",
       "    <tr>\n",
       "      <th>417</th>\n",
       "      <td>Palestinian Territories</td>\n",
       "      <td>2017</td>\n",
       "      <td>103</td>\n",
       "      <td>4.7750</td>\n",
       "      <td>0.716249</td>\n",
       "      <td>1.155647</td>\n",
       "      <td>0.565667</td>\n",
       "      <td>0.254711</td>\n",
       "      <td>0.114173</td>\n",
       "      <td>0.089283</td>\n",
       "    </tr>\n",
       "    <tr>\n",
       "      <th>573</th>\n",
       "      <td>Palestinian Territories</td>\n",
       "      <td>2018</td>\n",
       "      <td>104</td>\n",
       "      <td>4.7430</td>\n",
       "      <td>0.642000</td>\n",
       "      <td>1.217000</td>\n",
       "      <td>0.602000</td>\n",
       "      <td>0.266000</td>\n",
       "      <td>0.086000</td>\n",
       "      <td>0.076000</td>\n",
       "    </tr>\n",
       "    <tr>\n",
       "      <th>735</th>\n",
       "      <td>Palestinian Territories</td>\n",
       "      <td>2019</td>\n",
       "      <td>110</td>\n",
       "      <td>4.6960</td>\n",
       "      <td>0.657000</td>\n",
       "      <td>1.247000</td>\n",
       "      <td>0.672000</td>\n",
       "      <td>0.225000</td>\n",
       "      <td>0.103000</td>\n",
       "      <td>0.066000</td>\n",
       "    </tr>\n",
       "    <tr>\n",
       "      <th>906</th>\n",
       "      <td>Palestinian Territories</td>\n",
       "      <td>2020</td>\n",
       "      <td>125</td>\n",
       "      <td>4.5528</td>\n",
       "      <td>0.587819</td>\n",
       "      <td>1.194756</td>\n",
       "      <td>0.613827</td>\n",
       "      <td>0.298701</td>\n",
       "      <td>0.091816</td>\n",
       "      <td>0.071914</td>\n",
       "    </tr>\n",
       "    <tr>\n",
       "      <th>1059</th>\n",
       "      <td>Palestinian Territories</td>\n",
       "      <td>2021</td>\n",
       "      <td>125</td>\n",
       "      <td>4.5170</td>\n",
       "      <td>0.646000</td>\n",
       "      <td>0.819000</td>\n",
       "      <td>0.434000</td>\n",
       "      <td>0.330000</td>\n",
       "      <td>0.082000</td>\n",
       "      <td>0.075000</td>\n",
       "    </tr>\n",
       "    <tr>\n",
       "      <th>1205</th>\n",
       "      <td>Palestinian Territories*</td>\n",
       "      <td>2022</td>\n",
       "      <td>122</td>\n",
       "      <td>4.4830</td>\n",
       "      <td>1.148000</td>\n",
       "      <td>0.957000</td>\n",
       "      <td>0.521000</td>\n",
       "      <td>0.336000</td>\n",
       "      <td>0.073000</td>\n",
       "      <td>0.079000</td>\n",
       "    </tr>\n",
       "    <tr>\n",
       "      <th>1328</th>\n",
       "      <td>State of Palestine</td>\n",
       "      <td>2023</td>\n",
       "      <td>99</td>\n",
       "      <td>4.9080</td>\n",
       "      <td>1.144000</td>\n",
       "      <td>1.309000</td>\n",
       "      <td>NaN</td>\n",
       "      <td>0.416000</td>\n",
       "      <td>0.065000</td>\n",
       "      <td>0.067000</td>\n",
       "    </tr>\n",
       "  </tbody>\n",
       "</table>\n",
       "</div>"
      ],
      "text/plain": [
       "                       country  year  happiness_rank  happiness_score  \\\n",
       "107    Palestinian Territories  2015             108           4.7150   \n",
       "265    Palestinian Territories  2016             108           4.7540   \n",
       "417    Palestinian Territories  2017             103           4.7750   \n",
       "573    Palestinian Territories  2018             104           4.7430   \n",
       "735    Palestinian Territories  2019             110           4.6960   \n",
       "906    Palestinian Territories  2020             125           4.5528   \n",
       "1059   Palestinian Territories  2021             125           4.5170   \n",
       "1205  Palestinian Territories*  2022             122           4.4830   \n",
       "1328        State of Palestine  2023              99           4.9080   \n",
       "\n",
       "      economic_status  social_support  life_expectancy   freedom  generosity  \\\n",
       "107          0.598670        0.925580         0.660150  0.244990    0.112510   \n",
       "265          0.670240        0.716290         0.568440  0.177440    0.111540   \n",
       "417          0.716249        1.155647         0.565667  0.254711    0.114173   \n",
       "573          0.642000        1.217000         0.602000  0.266000    0.086000   \n",
       "735          0.657000        1.247000         0.672000  0.225000    0.103000   \n",
       "906          0.587819        1.194756         0.613827  0.298701    0.091816   \n",
       "1059         0.646000        0.819000         0.434000  0.330000    0.082000   \n",
       "1205         1.148000        0.957000         0.521000  0.336000    0.073000   \n",
       "1328         1.144000        1.309000              NaN  0.416000    0.065000   \n",
       "\n",
       "      govt_trust  \n",
       "107     0.129050  \n",
       "265     0.106130  \n",
       "417     0.089283  \n",
       "573     0.076000  \n",
       "735     0.066000  \n",
       "906     0.071914  \n",
       "1059    0.075000  \n",
       "1205    0.079000  \n",
       "1328    0.067000  "
      ]
     },
     "execution_count": 62,
     "metadata": {},
     "output_type": "execute_result"
    }
   ],
   "source": [
    "# Locating all variations of 'Palestine'\n",
    "\n",
    "whr_combined[whr_combined['country'].str.contains('Palest')]"
   ]
  },
  {
   "cell_type": "code",
   "execution_count": 63,
   "id": "dcafa08a",
   "metadata": {},
   "outputs": [
    {
     "data": {
      "text/html": [
       "<div>\n",
       "<style scoped>\n",
       "    .dataframe tbody tr th:only-of-type {\n",
       "        vertical-align: middle;\n",
       "    }\n",
       "\n",
       "    .dataframe tbody tr th {\n",
       "        vertical-align: top;\n",
       "    }\n",
       "\n",
       "    .dataframe thead th {\n",
       "        text-align: right;\n",
       "    }\n",
       "</style>\n",
       "<table border=\"1\" class=\"dataframe\">\n",
       "  <thead>\n",
       "    <tr style=\"text-align: right;\">\n",
       "      <th></th>\n",
       "      <th>country</th>\n",
       "      <th>year</th>\n",
       "      <th>happiness_rank</th>\n",
       "      <th>happiness_score</th>\n",
       "      <th>economic_status</th>\n",
       "      <th>social_support</th>\n",
       "      <th>life_expectancy</th>\n",
       "      <th>freedom</th>\n",
       "      <th>generosity</th>\n",
       "      <th>govt_trust</th>\n",
       "    </tr>\n",
       "  </thead>\n",
       "  <tbody>\n",
       "    <tr>\n",
       "      <th>107</th>\n",
       "      <td>Palestinian Territories</td>\n",
       "      <td>2015</td>\n",
       "      <td>108</td>\n",
       "      <td>4.7150</td>\n",
       "      <td>0.598670</td>\n",
       "      <td>0.925580</td>\n",
       "      <td>0.660150</td>\n",
       "      <td>0.244990</td>\n",
       "      <td>0.112510</td>\n",
       "      <td>0.129050</td>\n",
       "    </tr>\n",
       "    <tr>\n",
       "      <th>265</th>\n",
       "      <td>Palestinian Territories</td>\n",
       "      <td>2016</td>\n",
       "      <td>108</td>\n",
       "      <td>4.7540</td>\n",
       "      <td>0.670240</td>\n",
       "      <td>0.716290</td>\n",
       "      <td>0.568440</td>\n",
       "      <td>0.177440</td>\n",
       "      <td>0.111540</td>\n",
       "      <td>0.106130</td>\n",
       "    </tr>\n",
       "    <tr>\n",
       "      <th>417</th>\n",
       "      <td>Palestinian Territories</td>\n",
       "      <td>2017</td>\n",
       "      <td>103</td>\n",
       "      <td>4.7750</td>\n",
       "      <td>0.716249</td>\n",
       "      <td>1.155647</td>\n",
       "      <td>0.565667</td>\n",
       "      <td>0.254711</td>\n",
       "      <td>0.114173</td>\n",
       "      <td>0.089283</td>\n",
       "    </tr>\n",
       "    <tr>\n",
       "      <th>573</th>\n",
       "      <td>Palestinian Territories</td>\n",
       "      <td>2018</td>\n",
       "      <td>104</td>\n",
       "      <td>4.7430</td>\n",
       "      <td>0.642000</td>\n",
       "      <td>1.217000</td>\n",
       "      <td>0.602000</td>\n",
       "      <td>0.266000</td>\n",
       "      <td>0.086000</td>\n",
       "      <td>0.076000</td>\n",
       "    </tr>\n",
       "    <tr>\n",
       "      <th>735</th>\n",
       "      <td>Palestinian Territories</td>\n",
       "      <td>2019</td>\n",
       "      <td>110</td>\n",
       "      <td>4.6960</td>\n",
       "      <td>0.657000</td>\n",
       "      <td>1.247000</td>\n",
       "      <td>0.672000</td>\n",
       "      <td>0.225000</td>\n",
       "      <td>0.103000</td>\n",
       "      <td>0.066000</td>\n",
       "    </tr>\n",
       "    <tr>\n",
       "      <th>906</th>\n",
       "      <td>Palestinian Territories</td>\n",
       "      <td>2020</td>\n",
       "      <td>125</td>\n",
       "      <td>4.5528</td>\n",
       "      <td>0.587819</td>\n",
       "      <td>1.194756</td>\n",
       "      <td>0.613827</td>\n",
       "      <td>0.298701</td>\n",
       "      <td>0.091816</td>\n",
       "      <td>0.071914</td>\n",
       "    </tr>\n",
       "    <tr>\n",
       "      <th>1059</th>\n",
       "      <td>Palestinian Territories</td>\n",
       "      <td>2021</td>\n",
       "      <td>125</td>\n",
       "      <td>4.5170</td>\n",
       "      <td>0.646000</td>\n",
       "      <td>0.819000</td>\n",
       "      <td>0.434000</td>\n",
       "      <td>0.330000</td>\n",
       "      <td>0.082000</td>\n",
       "      <td>0.075000</td>\n",
       "    </tr>\n",
       "    <tr>\n",
       "      <th>1205</th>\n",
       "      <td>Palestinian Territories*</td>\n",
       "      <td>2022</td>\n",
       "      <td>122</td>\n",
       "      <td>4.4830</td>\n",
       "      <td>1.148000</td>\n",
       "      <td>0.957000</td>\n",
       "      <td>0.521000</td>\n",
       "      <td>0.336000</td>\n",
       "      <td>0.073000</td>\n",
       "      <td>0.079000</td>\n",
       "    </tr>\n",
       "    <tr>\n",
       "      <th>1328</th>\n",
       "      <td>State of Palestine</td>\n",
       "      <td>2023</td>\n",
       "      <td>99</td>\n",
       "      <td>4.9080</td>\n",
       "      <td>1.144000</td>\n",
       "      <td>1.309000</td>\n",
       "      <td>0.526939</td>\n",
       "      <td>0.416000</td>\n",
       "      <td>0.065000</td>\n",
       "      <td>0.067000</td>\n",
       "    </tr>\n",
       "  </tbody>\n",
       "</table>\n",
       "</div>"
      ],
      "text/plain": [
       "                       country  year  happiness_rank  happiness_score  \\\n",
       "107    Palestinian Territories  2015             108           4.7150   \n",
       "265    Palestinian Territories  2016             108           4.7540   \n",
       "417    Palestinian Territories  2017             103           4.7750   \n",
       "573    Palestinian Territories  2018             104           4.7430   \n",
       "735    Palestinian Territories  2019             110           4.6960   \n",
       "906    Palestinian Territories  2020             125           4.5528   \n",
       "1059   Palestinian Territories  2021             125           4.5170   \n",
       "1205  Palestinian Territories*  2022             122           4.4830   \n",
       "1328        State of Palestine  2023              99           4.9080   \n",
       "\n",
       "      economic_status  social_support  life_expectancy   freedom  generosity  \\\n",
       "107          0.598670        0.925580         0.660150  0.244990    0.112510   \n",
       "265          0.670240        0.716290         0.568440  0.177440    0.111540   \n",
       "417          0.716249        1.155647         0.565667  0.254711    0.114173   \n",
       "573          0.642000        1.217000         0.602000  0.266000    0.086000   \n",
       "735          0.657000        1.247000         0.672000  0.225000    0.103000   \n",
       "906          0.587819        1.194756         0.613827  0.298701    0.091816   \n",
       "1059         0.646000        0.819000         0.434000  0.330000    0.082000   \n",
       "1205         1.148000        0.957000         0.521000  0.336000    0.073000   \n",
       "1328         1.144000        1.309000         0.526939  0.416000    0.065000   \n",
       "\n",
       "      govt_trust  \n",
       "107     0.129050  \n",
       "265     0.106130  \n",
       "417     0.089283  \n",
       "573     0.076000  \n",
       "735     0.066000  \n",
       "906     0.071914  \n",
       "1059    0.075000  \n",
       "1205    0.079000  \n",
       "1328    0.067000  "
      ]
     },
     "execution_count": 63,
     "metadata": {},
     "output_type": "execute_result"
    }
   ],
   "source": [
    "# Impute the 2023 'life_expectancy' for Palestine [increased 1.14% from 2022 according to database.earth]\n",
    "whr_combined.at[1328, 'life_expectancy'] = (0.521 + 0.521 * 0.0114)\n",
    "\n",
    "# Verifies the change\n",
    "whr_combined[whr_combined['country'].str.contains('Palest')]"
   ]
  },
  {
   "cell_type": "markdown",
   "id": "9c7d6845",
   "metadata": {},
   "source": [
    "***\n",
    "### 8) Universalizing country names"
   ]
  },
  {
   "cell_type": "code",
   "execution_count": 64,
   "id": "0fc74b7b",
   "metadata": {},
   "outputs": [
    {
     "name": "stdout",
     "output_type": "stream",
     "text": [
      "Afghanistan\n",
      "Albania\n",
      "Algeria\n",
      "Angola\n",
      "Argentina\n",
      "Armenia\n",
      "Australia\n",
      "Austria\n",
      "Azerbaijan\n",
      "Azerbaijan*\n",
      "Bahrain\n",
      "Bangladesh\n",
      "Belarus\n",
      "Belarus*\n",
      "Belgium\n",
      "Belize\n",
      "Benin\n",
      "Bhutan\n",
      "Bolivia\n",
      "Bosnia and Herzegovina\n",
      "Botswana\n",
      "Botswana*\n",
      "Brazil\n",
      "Bulgaria\n",
      "Burkina Faso\n",
      "Burundi\n",
      "Cambodia\n",
      "Cameroon\n",
      "Canada\n",
      "Central African Republic\n",
      "Chad\n",
      "Chad*\n",
      "Chile\n",
      "China\n",
      "Colombia\n",
      "Comoros\n",
      "Comoros*\n",
      "Congo\n",
      "Congo (Brazzaville)\n",
      "Congo (Kinshasa)\n",
      "Costa Rica\n",
      "Croatia\n",
      "Cyprus\n",
      "Czech Republic\n",
      "Czechia\n",
      "Denmark\n",
      "Djibouti\n",
      "Dominican Republic\n",
      "Ecuador\n",
      "Egypt\n",
      "El Salvador\n",
      "Estonia\n",
      "Eswatini, Kingdom of*\n",
      "Ethiopia\n",
      "Finland\n",
      "France\n",
      "Gabon\n",
      "Gambia\n",
      "Gambia*\n",
      "Georgia\n",
      "Germany\n",
      "Ghana\n",
      "Greece\n",
      "Guatemala\n",
      "Guatemala*\n",
      "Guinea\n",
      "Haiti\n",
      "Honduras\n",
      "Hong Kong\n",
      "Hong Kong S.A.R. of China\n",
      "Hong Kong S.A.R., China\n",
      "Hungary\n",
      "Iceland\n",
      "India\n",
      "Indonesia\n",
      "Iran\n",
      "Iraq\n",
      "Ireland\n",
      "Israel\n",
      "Italy\n",
      "Ivory Coast\n",
      "Jamaica\n",
      "Japan\n",
      "Jordan\n",
      "Kazakhstan\n",
      "Kenya\n",
      "Kosovo\n",
      "Kuwait\n",
      "Kuwait*\n",
      "Kyrgyzstan\n",
      "Laos\n",
      "Latvia\n",
      "Lebanon\n",
      "Lesotho\n",
      "Lesotho*\n",
      "Liberia\n",
      "Liberia*\n",
      "Libya\n",
      "Libya*\n",
      "Lithuania\n",
      "Luxembourg\n",
      "Luxembourg*\n",
      "Macedonia\n",
      "Madagascar\n",
      "Madagascar*\n",
      "Malawi\n",
      "Malaysia\n",
      "Maldives\n",
      "Mali\n",
      "Malta\n",
      "Mauritania\n",
      "Mauritania*\n",
      "Mauritius\n",
      "Mexico\n",
      "Moldova\n",
      "Mongolia\n",
      "Montenegro\n",
      "Morocco\n",
      "Mozambique\n",
      "Myanmar\n",
      "Namibia\n",
      "Nepal\n",
      "Netherlands\n",
      "New Zealand\n",
      "Nicaragua\n",
      "Niger\n",
      "Niger*\n",
      "Nigeria\n",
      "North Cyprus\n",
      "North Cyprus*\n",
      "North Macedonia\n",
      "Northern Cyprus\n",
      "Norway\n",
      "Oman\n",
      "Pakistan\n",
      "Palestinian Territories\n",
      "Palestinian Territories*\n",
      "Panama\n",
      "Paraguay\n",
      "Peru\n",
      "Philippines\n",
      "Poland\n",
      "Portugal\n",
      "Puerto Rico\n",
      "Qatar\n",
      "Romania\n",
      "Russia\n",
      "Rwanda\n",
      "Rwanda*\n",
      "Saudi Arabia\n",
      "Senegal\n",
      "Serbia\n",
      "Sierra Leone\n",
      "Singapore\n",
      "Slovakia\n",
      "Slovenia\n",
      "Somalia\n",
      "Somaliland Region\n",
      "Somaliland region\n",
      "South Africa\n",
      "South Korea\n",
      "South Sudan\n",
      "Spain\n",
      "Sri Lanka\n",
      "State of Palestine\n",
      "Sudan\n",
      "Suriname\n",
      "Swaziland\n",
      "Sweden\n",
      "Switzerland\n",
      "Syria\n",
      "Taiwan\n",
      "Taiwan Province of China\n",
      "Tajikistan\n",
      "Tanzania\n",
      "Thailand\n",
      "Togo\n",
      "Trinidad & Tobago\n",
      "Trinidad and Tobago\n",
      "Tunisia\n",
      "Turkey\n",
      "Turkiye\n",
      "Turkmenistan\n",
      "Turkmenistan*\n",
      "Uganda\n",
      "Ukraine\n",
      "United Arab Emirates\n",
      "United Kingdom\n",
      "United States\n",
      "Uruguay\n",
      "Uzbekistan\n",
      "Venezuela\n",
      "Vietnam\n",
      "Yemen\n",
      "Yemen*\n",
      "Zambia\n",
      "Zimbabwe\n"
     ]
    }
   ],
   "source": [
    "# Viewing all unique country names - looking for issues\n",
    "\n",
    "unique_countries = set(whr_combined['country'])\n",
    "\n",
    "for country_name in sorted(unique_countries):\n",
    "    print(country_name)"
   ]
  },
  {
   "cell_type": "code",
   "execution_count": 65,
   "id": "235624e5",
   "metadata": {},
   "outputs": [],
   "source": [
    "# List of 'Azerbaijan' variants\n",
    "azerbaijan_variants = ['Azerbaijan*']\n",
    "\n",
    "# Replace all variants with 'Azerbaijan'\n",
    "whr_combined['country'] = whr_combined['country'].replace(azerbaijan_variants, 'Azerbaijan')"
   ]
  },
  {
   "cell_type": "code",
   "execution_count": 66,
   "id": "75c36092",
   "metadata": {},
   "outputs": [],
   "source": [
    "# List of 'Belarus' variants\n",
    "belarus_variants = ['Belarus*']\n",
    "\n",
    "# Replace all variants with 'Belarus'\n",
    "whr_combined['country'] = whr_combined['country'].replace(belarus_variants, 'Belarus')"
   ]
  },
  {
   "cell_type": "code",
   "execution_count": 67,
   "id": "560816a6",
   "metadata": {},
   "outputs": [],
   "source": [
    "# List of 'Botswana' variants\n",
    "botswana_variants = ['Botswana*']\n",
    "\n",
    "# Replace all variants with 'Botswana'\n",
    "whr_combined['country'] = whr_combined['country'].replace(botswana_variants, 'Botswana')"
   ]
  },
  {
   "cell_type": "code",
   "execution_count": 68,
   "id": "3c71c9c5",
   "metadata": {},
   "outputs": [],
   "source": [
    "# List of 'Chad' variants\n",
    "chad_variants = ['Chad*']\n",
    "\n",
    "# Replace all variants with 'Chad'\n",
    "whr_combined['country'] = whr_combined['country'].replace(chad_variants, 'Chad')"
   ]
  },
  {
   "cell_type": "code",
   "execution_count": 69,
   "id": "9f87fe1b",
   "metadata": {},
   "outputs": [],
   "source": [
    "# List of 'Comoros' variants\n",
    "comoros_variants = ['Comoros*']\n",
    "\n",
    "# Replace all variants with 'Comoros'\n",
    "whr_combined['country'] = whr_combined['country'].replace(comoros_variants, 'Comoros')"
   ]
  },
  {
   "cell_type": "code",
   "execution_count": 70,
   "id": "b6e56ebc",
   "metadata": {},
   "outputs": [],
   "source": [
    "# List of all 'Congo' variants\n",
    "congo_variants = ['Congo']\n",
    "\n",
    "# Replace all variants with 'Congo (Brazzaville)'\n",
    "whr_combined['country'] = whr_combined['country'].replace(congo_variants, 'Congo (Brazzaville)')"
   ]
  },
  {
   "cell_type": "code",
   "execution_count": 71,
   "id": "3595b54b",
   "metadata": {},
   "outputs": [],
   "source": [
    "# List of 'Czechia' variants\n",
    "czechia_variants = ['Czechia']\n",
    "\n",
    "# Replace all variants with 'Czech Republic'\n",
    "whr_combined['country'] = whr_combined['country'].replace(czechia_variants, 'Czech Republic')"
   ]
  },
  {
   "cell_type": "code",
   "execution_count": 72,
   "id": "77404d72",
   "metadata": {},
   "outputs": [],
   "source": [
    "# List of 'Eswatini' variants (aka 'Swaziland')\n",
    "eswatani_variants = ['Eswatini, Kingdom of*']\n",
    "\n",
    "# Replace all variants with 'Swaziland'\n",
    "whr_combined['country'] = whr_combined['country'].replace(eswatani_variants, 'Swaziland')"
   ]
  },
  {
   "cell_type": "code",
   "execution_count": 73,
   "id": "d05ee378",
   "metadata": {},
   "outputs": [],
   "source": [
    "# List of 'Gambia' variants\n",
    "gambia_variants = ['Gambia*']\n",
    "\n",
    "# Replace all variants with 'Gambia'\n",
    "whr_combined['country'] = whr_combined['country'].replace(gambia_variants, 'Gambia')"
   ]
  },
  {
   "cell_type": "code",
   "execution_count": 74,
   "id": "65de0994",
   "metadata": {},
   "outputs": [],
   "source": [
    "# List of 'Guatemala' variants\n",
    "guatemala_variants = ['Guatemala*']\n",
    "\n",
    "# Replace all variants with 'Guatemala'\n",
    "whr_combined['country'] = whr_combined['country'].replace(guatemala_variants, 'Guatemala')"
   ]
  },
  {
   "cell_type": "code",
   "execution_count": 75,
   "id": "62b29ff0",
   "metadata": {},
   "outputs": [],
   "source": [
    "# List of 'Hong Kong' variants\n",
    "hk_variants = ['Hong Kong S.A.R. of China', 'Hong Kong S.A.R., China']\n",
    "\n",
    "# Replace all variants with 'Hong Kong'\n",
    "whr_combined['country'] = whr_combined['country'].replace(hk_variants, 'Hong Kong')"
   ]
  },
  {
   "cell_type": "code",
   "execution_count": 76,
   "id": "d8280b70",
   "metadata": {},
   "outputs": [],
   "source": [
    "# List of 'Kuwait' variants\n",
    "kuwait_variants = ['Kuwait*']\n",
    "\n",
    "# Replace all variants with 'Kuwait'\n",
    "whr_combined['country'] = whr_combined['country'].replace(kuwait_variants, 'Kuwait')"
   ]
  },
  {
   "cell_type": "code",
   "execution_count": 77,
   "id": "b3d261af",
   "metadata": {},
   "outputs": [],
   "source": [
    "# List of 'Lesotho' variants\n",
    "lesotho_variants = ['Lesotho*']\n",
    "\n",
    "# Replace all variants with 'Lesotho'\n",
    "whr_combined['country'] = whr_combined['country'].replace(lesotho_variants, 'Lesotho')"
   ]
  },
  {
   "cell_type": "code",
   "execution_count": 78,
   "id": "a6f4a55c",
   "metadata": {},
   "outputs": [],
   "source": [
    "# List of 'Liberia' variants\n",
    "liberia_variants = ['Liberia*']\n",
    "\n",
    "# Replace all variants with 'Liberia'\n",
    "whr_combined['country'] = whr_combined['country'].replace(liberia_variants, 'Liberia')"
   ]
  },
  {
   "cell_type": "code",
   "execution_count": 79,
   "id": "ce950500",
   "metadata": {},
   "outputs": [],
   "source": [
    "# List of 'Libya' variants\n",
    "libya_variants = ['Libya*']\n",
    "\n",
    "# Replace all variants with 'Libya'\n",
    "whr_combined['country'] = whr_combined['country'].replace(libya_variants, 'Libya')"
   ]
  },
  {
   "cell_type": "code",
   "execution_count": 80,
   "id": "566572bb",
   "metadata": {},
   "outputs": [],
   "source": [
    "# List of 'Luxembourg' variants\n",
    "luxembourg_variants = ['Luxembourg*']\n",
    "\n",
    "# Replace all variants with 'Luxembourg'\n",
    "whr_combined['country'] = whr_combined['country'].replace(luxembourg_variants, 'Luxembourg')"
   ]
  },
  {
   "cell_type": "code",
   "execution_count": 81,
   "id": "ad15a753",
   "metadata": {},
   "outputs": [],
   "source": [
    "# List of 'Macedonia' variants\n",
    "macedonia_variants = ['North Macedonia']\n",
    "\n",
    "# Replace all variants with 'Macedonia'\n",
    "whr_combined['country'] = whr_combined['country'].replace(macedonia_variants, 'Macedonia')"
   ]
  },
  {
   "cell_type": "code",
   "execution_count": 82,
   "id": "0d483e29",
   "metadata": {},
   "outputs": [],
   "source": [
    "# List of 'Madagascar' variants\n",
    "madagascar_variants = ['Madagascar*']\n",
    "\n",
    "# Replace all variants with 'Madagascar'\n",
    "whr_combined['country'] = whr_combined['country'].replace(madagascar_variants, 'Madagascar')"
   ]
  },
  {
   "cell_type": "code",
   "execution_count": 83,
   "id": "fd271849",
   "metadata": {},
   "outputs": [],
   "source": [
    "# List of 'Mauritania' variants\n",
    "mauritania_variants = ['Mauritania*']\n",
    "\n",
    "# Replace all variants with 'Mauritania'\n",
    "whr_combined['country'] = whr_combined['country'].replace(mauritania_variants, 'Mauritania')"
   ]
  },
  {
   "cell_type": "code",
   "execution_count": 84,
   "id": "158d636f",
   "metadata": {},
   "outputs": [],
   "source": [
    "# List of 'Niger' variants\n",
    "niger_variants = ['Niger*']\n",
    "\n",
    "# Replace all variants with 'Niger'\n",
    "whr_combined['country'] = whr_combined['country'].replace(niger_variants, 'Niger')"
   ]
  },
  {
   "cell_type": "code",
   "execution_count": 85,
   "id": "7d7074f8",
   "metadata": {},
   "outputs": [],
   "source": [
    "# List of 'North Cyprus' variants\n",
    "nc_variants = ['North Cyprus*', 'Northern Cyprus']\n",
    "\n",
    "# Replace all variants with 'North Cyprus'\n",
    "whr_combined['country'] = whr_combined['country'].replace(nc_variants, 'North Cyprus')"
   ]
  },
  {
   "cell_type": "code",
   "execution_count": 86,
   "id": "24677537",
   "metadata": {},
   "outputs": [],
   "source": [
    "# List of 'Palestine' variants\n",
    "palestine_variants = ['Palestinian Territories', 'Palestinian Territories*', 'State of Palestine']\n",
    "\n",
    "# Replace all variants with 'Palestine'\n",
    "whr_combined['country'] = whr_combined['country'].replace(palestine_variants, 'Palestine')"
   ]
  },
  {
   "cell_type": "code",
   "execution_count": 87,
   "id": "133d106e",
   "metadata": {},
   "outputs": [],
   "source": [
    "# List of 'Rwanda' variants\n",
    "rwanda_variants = ['Rwanda*']\n",
    "\n",
    "# Replace all variants with 'Rwanda'\n",
    "whr_combined['country'] = whr_combined['country'].replace(rwanda_variants, 'Rwanda')"
   ]
  },
  {
   "cell_type": "code",
   "execution_count": 88,
   "id": "1bb90175",
   "metadata": {},
   "outputs": [],
   "source": [
    "# List of 'Somaliland Region' variants\n",
    "sr_variants = ['Somaliland Region', 'Somaliland region']\n",
    "\n",
    "# Replace all variants with 'Somaliland'\n",
    "whr_combined['country'] = whr_combined['country'].replace(sr_variants, 'Somaliland')"
   ]
  },
  {
   "cell_type": "code",
   "execution_count": 89,
   "id": "a8cc53af",
   "metadata": {},
   "outputs": [],
   "source": [
    "# List of 'Taiwan' variants\n",
    "taiwan_variants = ['Taiwan Province of China']\n",
    "\n",
    "# Replace all variants with 'Taiwan'\n",
    "whr_combined['country'] = whr_combined['country'].replace(taiwan_variants, 'Taiwan')"
   ]
  },
  {
   "cell_type": "code",
   "execution_count": 90,
   "id": "6b45a95c",
   "metadata": {},
   "outputs": [],
   "source": [
    "# List of 'Trinidad & Tobago' variants\n",
    "tt_variants = ['Trinidad & Tobago']\n",
    "\n",
    "# Replace all variants with 'Trinidad and Tobago'\n",
    "whr_combined['country'] = whr_combined['country'].replace(tt_variants, 'Trinidad and Tobago')"
   ]
  },
  {
   "cell_type": "code",
   "execution_count": 91,
   "id": "0a9e98ff",
   "metadata": {},
   "outputs": [],
   "source": [
    "# List of 'Turkey' variants\n",
    "turkey_variants = ['Turkiye']\n",
    "\n",
    "# Replace all variants with 'Turkey'\n",
    "whr_combined['country'] = whr_combined['country'].replace(turkey_variants, 'Turkey')"
   ]
  },
  {
   "cell_type": "code",
   "execution_count": 92,
   "id": "64803daf",
   "metadata": {},
   "outputs": [],
   "source": [
    "# List of 'Turkmenistan' variants\n",
    "turkmenistan_variants = ['Turkmenistan*']\n",
    "\n",
    "# Replace all variants with 'Turkmenistan'\n",
    "whr_combined['country'] = whr_combined['country'].replace(turkmenistan_variants, 'Turkmenistan')"
   ]
  },
  {
   "cell_type": "code",
   "execution_count": 93,
   "id": "4204c0a9",
   "metadata": {},
   "outputs": [],
   "source": [
    "# List of 'Yemen' variants\n",
    "yemen_variants = ['Yemen*']\n",
    "\n",
    "# Replace all variants with 'Yemen'\n",
    "whr_combined['country'] = whr_combined['country'].replace(yemen_variants, 'Yemen')"
   ]
  },
  {
   "cell_type": "markdown",
   "id": "f05bd064",
   "metadata": {},
   "source": [
    "***\n",
    "### 9) Modifying data types in the combined dataframe"
   ]
  },
  {
   "cell_type": "code",
   "execution_count": 94,
   "id": "30e23d83",
   "metadata": {},
   "outputs": [
    {
     "data": {
      "text/plain": [
       "country             object\n",
       "year                 int16\n",
       "happiness_rank       int16\n",
       "happiness_score    float32\n",
       "economic_status    float32\n",
       "social_support     float32\n",
       "life_expectancy    float64\n",
       "freedom            float32\n",
       "generosity         float32\n",
       "govt_trust         float64\n",
       "dtype: object"
      ]
     },
     "execution_count": 94,
     "metadata": {},
     "output_type": "execute_result"
    }
   ],
   "source": [
    "whr_combined.dtypes"
   ]
  },
  {
   "cell_type": "code",
   "execution_count": 95,
   "id": "6152cee7",
   "metadata": {},
   "outputs": [],
   "source": [
    "# Modifying dtypes\n",
    "\n",
    "whr_combined['life_expectancy'] = whr_combined['life_expectancy'].astype('float32')\n",
    "whr_combined['govt_trust'] = whr_combined['govt_trust'].astype('float32')\n",
    "whr_combined['year'] = whr_combined['year'].astype('category')\n",
    "whr_combined['country'] = whr_combined['country'].astype('category')"
   ]
  },
  {
   "cell_type": "code",
   "execution_count": 96,
   "id": "2b2d9b9b",
   "metadata": {},
   "outputs": [
    {
     "data": {
      "text/plain": [
       "country            category\n",
       "year               category\n",
       "happiness_rank        int16\n",
       "happiness_score     float32\n",
       "economic_status     float32\n",
       "social_support      float32\n",
       "life_expectancy     float32\n",
       "freedom             float32\n",
       "generosity          float32\n",
       "govt_trust          float32\n",
       "dtype: object"
      ]
     },
     "execution_count": 96,
     "metadata": {},
     "output_type": "execute_result"
    }
   ],
   "source": [
    "whr_combined.dtypes"
   ]
  },
  {
   "cell_type": "markdown",
   "id": "b1be0d43",
   "metadata": {},
   "source": [
    "***\n",
    "### 10) Removing countries whose scores do not appear for all 9 years (2015 - 2023)"
   ]
  },
  {
   "cell_type": "markdown",
   "id": "619de18d",
   "metadata": {},
   "source": [
    "**I am preparing the WHR data for a complete case analysis and am therefore focusing exclusively on countries with data available for all nine years. Complete case analysis involves selecting observations or cases in a dataset with complete data for all variables of interest, excluding those with missing values. By doing so, the emphasis is placed on leveraging available data points that provide complete information for the variables of interest. Although some data points may be excluded due to missing values, this approach capitalizes on the remaining complete cases to optimize the analysis and derive robust insights.**"
   ]
  },
  {
   "cell_type": "code",
   "execution_count": 97,
   "id": "d499cee7",
   "metadata": {},
   "outputs": [],
   "source": [
    "# Counts the number of years each country is measured\n",
    "\n",
    "country_counts = whr_combined['country'].value_counts()"
   ]
  },
  {
   "cell_type": "code",
   "execution_count": 98,
   "id": "9194675c",
   "metadata": {},
   "outputs": [],
   "source": [
    "# Filters countries that were measured for all 9 years\n",
    "\n",
    "complete_countries = country_counts[country_counts == 9].index"
   ]
  },
  {
   "cell_type": "code",
   "execution_count": 99,
   "id": "d808f548",
   "metadata": {},
   "outputs": [],
   "source": [
    "# Create a new dataset containing only complete countries\n",
    "\n",
    "df9 = whr_combined[whr_combined['country'].isin(complete_countries)]"
   ]
  },
  {
   "cell_type": "markdown",
   "id": "498f90e9",
   "metadata": {},
   "source": [
    "***\n",
    "### 11) Exporting the combined dataframe as a csv"
   ]
  },
  {
   "cell_type": "code",
   "execution_count": 1,
   "id": "9ee6a048",
   "metadata": {},
   "outputs": [],
   "source": [
    "# df9.to_csv(r'C:\\Users\\ingra\\OneDrive\\Desktop\\whr_combined_whr1.csv', index=False)"
   ]
  }
 ],
 "metadata": {
  "kernelspec": {
   "display_name": "Python 3 (ipykernel)",
   "language": "python",
   "name": "python3"
  },
  "language_info": {
   "codemirror_mode": {
    "name": "ipython",
    "version": 3
   },
   "file_extension": ".py",
   "mimetype": "text/x-python",
   "name": "python",
   "nbconvert_exporter": "python",
   "pygments_lexer": "ipython3",
   "version": "3.10.12"
  }
 },
 "nbformat": 4,
 "nbformat_minor": 5
}
